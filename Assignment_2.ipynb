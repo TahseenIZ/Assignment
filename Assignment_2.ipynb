{
  "cells": [
    {
      "cell_type": "markdown",
      "metadata": {
        "id": "view-in-github",
        "colab_type": "text"
      },
      "source": [
        "<a href=\"https://colab.research.google.com/github/TahseenIZ/Assignment/blob/main/Assignment_2.ipynb\" target=\"_parent\"><img src=\"https://colab.research.google.com/assets/colab-badge.svg\" alt=\"Open In Colab\"/></a>"
      ]
    },
    {
      "cell_type": "code",
      "execution_count": null,
      "id": "3ecc57dd",
      "metadata": {
        "id": "3ecc57dd",
        "outputId": "91fc0814-ef89-4ede-e0df-c30ead8b15af"
      },
      "outputs": [
        {
          "name": "stdout",
          "output_type": "stream",
          "text": [
            "Please enter your name: SOUMYA M DODDMANI\n",
            "Please enter your age: 25\n",
            "Please enter your email address: soumyadoddmani@abc.com\n"
          ]
        }
      ],
      "source": [
        "# Get 1 user information\n",
        "\n",
        "# Enter user information\n",
        "user_name = input(\"Please enter your name: \")\n",
        "user_age = input(\"Please enter your age: \")\n",
        "user_email = input(\"Please enter your email address: \")\n",
        "user_phone_number = input(\"Please enter your phone number: \")\n",
        "user_address = input(\"Please enter your address: \")\n",
        "user_profession = input(\"Please enter your profession: \")\n",
        "\n",
        "# user information paragraph\n",
        "paragraph = f\"paragraph:\\n\\nName: {name}\\nAge: {age}\\nEmail: {email}\\nPhone Number: {phone_number}\\nAddress: {address}\\nProfessi\n",
        "\n",
        "# Print paragraph\n",
        "print(paragraph)"
      ]
    },
    {
      "cell_type": "code",
      "execution_count": null,
      "id": "b89bebed",
      "metadata": {
        "id": "b89bebed"
      },
      "outputs": [],
      "source": []
    }
  ],
  "metadata": {
    "kernelspec": {
      "display_name": "Python 3 (ipykernel)",
      "language": "python",
      "name": "python3"
    },
    "language_info": {
      "codemirror_mode": {
        "name": "ipython",
        "version": 3
      },
      "file_extension": ".py",
      "mimetype": "text/x-python",
      "name": "python",
      "nbconvert_exporter": "python",
      "pygments_lexer": "ipython3",
      "version": "3.11.5"
    },
    "colab": {
      "provenance": [],
      "include_colab_link": true
    }
  },
  "nbformat": 4,
  "nbformat_minor": 5
}