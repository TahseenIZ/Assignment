{
  "cells": [
    {
      "cell_type": "markdown",
      "metadata": {
        "id": "view-in-github",
        "colab_type": "text"
      },
      "source": [
        "<a href=\"https://colab.research.google.com/github/TahseenIZ/Assignment/blob/main/Assignment_4.ipynb\" target=\"_parent\"><img src=\"https://colab.research.google.com/assets/colab-badge.svg\" alt=\"Open In Colab\"/></a>"
      ]
    },
    {
      "cell_type": "code",
      "execution_count": null,
      "id": "bb57f2af",
      "metadata": {
        "id": "bb57f2af",
        "outputId": "d8e395ae-eeca-4cc6-c2b9-f13ee326a707"
      },
      "outputs": [
        {
          "name": "stdout",
          "output_type": "stream",
          "text": [
            "Enter the first string: Hello Python  Hello World\n",
            "Enter the second string:  hello python\n",
            "Concatenated String:  Hello Python  Hello World hello python\n"
          ]
        }
      ],
      "source": [
        "# string creation and concatenation:\n",
        "\n",
        "string1 = input(\"Enter the first string: \")\n",
        "string2 = input(\"Enter the second string: \")\n",
        "concatenated_string = string1 + string2\n",
        "print(\"Concatenated String: \", concatenated_string)\n",
        "\n",
        "import random\n",
        "import string"
      ]
    },
    {
      "cell_type": "code",
      "execution_count": null,
      "id": "7be7adfa",
      "metadata": {
        "id": "7be7adfa",
        "outputId": "f5663ad7-047a-4e95-fe61-f37972262dfb"
      },
      "outputs": [
        {
          "name": "stdout",
          "output_type": "stream",
          "text": [
            "Enter a string: HELLO PYTHON\n",
            "Reversed String: NOHTYP OLLEH\n"
          ]
        }
      ],
      "source": [
        "# Write a program to reverse a given string\n",
        "\n",
        "input_string = input(\"Enter a string: \")\n",
        "reversed_string = input_string[::-1]\n",
        "print(\"Reversed String:\", reversed_string)"
      ]
    },
    {
      "cell_type": "code",
      "execution_count": null,
      "id": "3f1f10ce",
      "metadata": {
        "id": "3f1f10ce",
        "outputId": "5947b6d5-01c1-4532-ffe7-69869faf27ce"
      },
      "outputs": [
        {
          "name": "stdout",
          "output_type": "stream",
          "text": [
            "Enter a string: HELLO PYTHON\n",
            "String without Vowels: HLL PYTHN\n"
          ]
        }
      ],
      "source": [
        "# Design a program to remove all vowels from a given string\n",
        "\n",
        "input_string = input(\"Enter a string: \")\n",
        "vowels = \"AEIOUaeiou\"\n",
        "print(\"String without Vowels:\", filtered_string)"
      ]
    },
    {
      "cell_type": "code",
      "execution_count": null,
      "id": "d4793ae3",
      "metadata": {
        "id": "d4793ae3",
        "outputId": "a50fc989-fa2d-4f0b-fc80-d7addbcc3c07"
      },
      "outputs": [
        {
          "name": "stdout",
          "output_type": "stream",
          "text": [
            "Enter a sentence: HELLO PYTHON\n",
            "Formatted Sentence: Hello Python\n"
          ]
        }
      ],
      "source": [
        "# Create a program to convert the first letter of each word in a sentence to uppercase.\n",
        "\n",
        "input_sentence = input(\"Enter a sentence: \")\n",
        "formatted_sentence = ' '.join(word.capitalize() for word in input_sentence.split())\n",
        "print(\"Formatted Sentence:\", formatted_sentence)"
      ]
    },
    {
      "cell_type": "code",
      "execution_count": null,
      "id": "4edaaf61",
      "metadata": {
        "id": "4edaaf61",
        "outputId": "0d5a8425-7a50-443f-8ad6-cb743cc8bafe"
      },
      "outputs": [
        {
          "name": "stdout",
          "output_type": "stream",
          "text": [
            "Enter a sentence: HELLO PYTHON\n",
            "Enter a word to search: P\n",
            "The word is present in the sentence.\n"
          ]
        }
      ],
      "source": [
        "# Write a program to check if a specific word is present in a given sentence\n",
        "\n",
        "sentence = input(\"Enter a sentence: \")\n",
        "word = input(\"Enter a word to search: \")\n",
        "if word in sentence:\n",
        "    print(\"The word is present in the sentence.\")\n",
        "else:\n",
        "    print(\"The word is not present in the sentence.\")"
      ]
    },
    {
      "cell_type": "code",
      "execution_count": null,
      "id": "a2ba0b35",
      "metadata": {
        "id": "a2ba0b35",
        "outputId": "a4d9b6f6-0f88-4b25-f3a0-f62dd6d265e0"
      },
      "outputs": [
        {
          "name": "stdout",
          "output_type": "stream",
          "text": [
            "Enter a string: HELLO PYTHON\n",
            "Enter a character to count: O\n",
            "The character 'O' appears 2 times in the string.\n"
          ]
        }
      ],
      "source": [
        "# Design a program to count the number of occurrences of a specific character in a string.\n",
        "\n",
        "input_string = input(\"Enter a string: \")\n",
        "char_to_count = input(\"Enter a character to count: \")\n",
        "count = input_string.count(char_to_count)\n",
        "print(f\"The character '{char_to_count}' appears {count} times in the string.\")"
      ]
    },
    {
      "cell_type": "code",
      "execution_count": null,
      "id": "561ceabd",
      "metadata": {
        "id": "561ceabd",
        "outputId": "be007855-3fc9-4092-9a35-3895603cd35d"
      },
      "outputs": [
        {
          "name": "stdout",
          "output_type": "stream",
          "text": [
            "Enter a string: HELLO PYTHON\n",
            "Enter a substring to find: L\n",
            "The substring 'L' first appears at index 2.\n"
          ]
        }
      ],
      "source": [
        "# Create a program to find the index of the first occurrence of a specific substring in a given string\n",
        "\n",
        "input_string = input(\"Enter a string: \")\n",
        "substring = input(\"Enter a substring to find: \")\n",
        "if substring in input_string:\n",
        "    index = input_string.find(substring)\n",
        "    print(f\"The substring '{substring}' first appears at index {index}.\")\n",
        "else:\n",
        "    print(f\"The substring '{substring}' is not found in the string.\")"
      ]
    },
    {
      "cell_type": "code",
      "execution_count": null,
      "id": "811cd6de",
      "metadata": {
        "id": "811cd6de",
        "outputId": "13f35c15-1cc1-43fb-8f5f-c58b3d5aa7d4"
      },
      "outputs": [
        {
          "name": "stdout",
          "output_type": "stream",
          "text": [
            "Enter a string: HELLO PYTHON\n",
            "First Three Characters: HEL\n",
            "Last Three Characters: HON\n"
          ]
        }
      ],
      "source": [
        "# Write a program to extract the first three and last three characters from a given string.\n",
        "\n",
        "input_string = input(\"Enter a string: \")\n",
        "if len(input_string) < 3:\n",
        "    print(\"String is too short.\")\n",
        "else:\n",
        "    first_three = input_string[:3]\n",
        "    last_three = input_string[-3:]\n",
        "    print(f\"First Three Characters: {first_three}\")\n",
        "    print(f\"Last Three Characters: {last_three}\")"
      ]
    },
    {
      "cell_type": "code",
      "execution_count": null,
      "id": "18e45e09",
      "metadata": {
        "id": "18e45e09",
        "outputId": "12927d75-95af-4e96-a6af-b6df7970cc2a"
      },
      "outputs": [
        {
          "name": "stdout",
          "output_type": "stream",
          "text": [
            "Enter a decimal number: 1.52\n",
            "Formatted Number: 1.52\n"
          ]
        }
      ],
      "source": [
        "# Design a program to format a decimal number to display exactly two decimal places.\n",
        "\n",
        "decimal_number = float(input(\"Enter a decimal number: \"))\n",
        "formatted_number = \"{:.2f}\".format(decimal_number)\n",
        "print(\"Formatted Number:\", formatted_number)"
      ]
    },
    {
      "cell_type": "code",
      "execution_count": null,
      "id": "95a1220f",
      "metadata": {
        "id": "95a1220f",
        "outputId": "a8b80b2b-0fe7-4508-f646-4c1680fa10a5"
      },
      "outputs": [
        {
          "name": "stdout",
          "output_type": "stream",
          "text": [
            "Enter your name: AMRIT\n",
            "Enter your age: 20\n",
            "Hello, AMRIT! You are 20 years old.\n"
          ]
        }
      ],
      "source": [
        "# Create a program that takes a user's name and age as input and prints a message using string formatting.\n",
        "\n",
        "name = input(\"Enter your name: \")\n",
        "age = int(input(\"Enter your age: \"))\n",
        "message = \"Hello, {}! You are {} years old.\".format(name, age)\n",
        "print(message)"
      ]
    },
    {
      "cell_type": "code",
      "execution_count": null,
      "id": "b42b69c2",
      "metadata": {
        "id": "b42b69c2",
        "outputId": "33dc3ea8-f295-4767-ddce-7e8f91261ff9"
      },
      "outputs": [
        {
          "name": "stdout",
          "output_type": "stream",
          "text": [
            "Enter a string: HELLO PYTHON\n",
            "The string is not a palindrome.\n"
          ]
        }
      ],
      "source": [
        "# Write a program to check if a given string is a palindrome.\n",
        "\n",
        "input_string = input(\"Enter a string: \")\n",
        "if input_string == input_string[::-1]:\n",
        "    print(\"The string is a palindrome.\")\n",
        "else:\n",
        "    print(\"The string is not a palindrome.\")"
      ]
    },
    {
      "cell_type": "markdown",
      "id": "2e7d3e84",
      "metadata": {
        "id": "2e7d3e84"
      },
      "source": [
        "## Design a program to validate if a given string is a valid email address.\n"
      ]
    },
    {
      "cell_type": "markdown",
      "id": "9afea52b",
      "metadata": {
        "id": "9afea52b"
      },
      "source": [
        "# Create a program to validate if a given string is a valid phone number.\n"
      ]
    },
    {
      "cell_type": "code",
      "execution_count": null,
      "id": "978056b9",
      "metadata": {
        "id": "978056b9",
        "outputId": "ea16da4c-2437-4f2f-fcc0-ae4ad496e636"
      },
      "outputs": [
        {
          "name": "stdout",
          "output_type": "stream",
          "text": [
            "Enter a sentence: hello\n",
            "Words in the sentence: ['hello']\n"
          ]
        }
      ],
      "source": [
        "# Write a program to split a sentence into words using the split() function.\n",
        "\n",
        "input_sentence = input(\"Enter a sentence: \")\n",
        "words = input_sentence.split()\n",
        "print(\"Words in the sentence:\", words)"
      ]
    },
    {
      "cell_type": "code",
      "execution_count": null,
      "id": "7a2a59d4",
      "metadata": {
        "id": "7a2a59d4",
        "outputId": "96b7e2ef-885f-436d-9e3d-ea85d8de33f1"
      },
      "outputs": [
        {
          "name": "stdout",
          "output_type": "stream",
          "text": [
            "Concatenated Sentence: This is a list of words.\n"
          ]
        }
      ],
      "source": [
        "# Design a program to concatenate a list of strings into a sentence using the join() function.\n",
        "\n",
        "words = [\"This\", \"is\", \"a\", \"list\", \"of\", \"words.\"]\n",
        "sentence = ' '.join(words)\n",
        "print(\"Concatenated Sentence:\", sentence)"
      ]
    },
    {
      "cell_type": "code",
      "execution_count": null,
      "id": "dc141d0a",
      "metadata": {
        "id": "dc141d0a",
        "outputId": "8b7df91a-f6d2-425c-e3a2-e3bbd96d51e9"
      },
      "outputs": [
        {
          "name": "stdout",
          "output_type": "stream",
          "text": [
            "Enter a sentence: Hello Python\n",
            "Enter the word to replace: Python\n",
            "Enter the replacement word: World\n",
            "Replaced Sentence: Hello World\n"
          ]
        }
      ],
      "source": [
        "# Create a program to replace a specific word in a sentence with another word using the replace() function.\n",
        "\n",
        "input_sentence = input(\"Enter a sentence: \")\n",
        "old_word = input(\"Enter the word to replace: \")\n",
        "new_word = input(\"Enter the replacement word: \")\n",
        "replaced_sentence = input_sentence.replace(old_word, new_word)\n",
        "print(\"Replaced Sentence:\", replaced_sentence)"
      ]
    },
    {
      "cell_type": "code",
      "execution_count": null,
      "id": "111a108a",
      "metadata": {
        "id": "111a108a",
        "outputId": "9b917385-6f51-44e4-9108-9fb28c5d63cb"
      },
      "outputs": [
        {
          "name": "stdout",
          "output_type": "stream",
          "text": [
            "ftbPsauthS\n"
          ]
        }
      ],
      "source": [
        "# Create a program to generate a random string of a specific length\n",
        "\n",
        "import random\n",
        "import string\n",
        "\n",
        "def generate_random_string(length):\n",
        "    characters = string.ascii_letters + string.digits  # You can modify this to include special characters if needed\n",
        "    random_string = ''.join(random.choice(characters) for _ in range(length))\n",
        "    return random_string\n",
        "\n",
        "# Specify the length of the random string you want\n",
        "length = 10  # Change this to your desired length\n",
        "\n",
        "# Call the function to generate a random string\n",
        "random_str = generate_random_string(length)\n",
        "print(random_str)\n",
        "\n"
      ]
    },
    {
      "cell_type": "code",
      "execution_count": null,
      "id": "3d1499e1",
      "metadata": {
        "id": "3d1499e1"
      },
      "outputs": [],
      "source": []
    }
  ],
  "metadata": {
    "kernelspec": {
      "display_name": "Python 3 (ipykernel)",
      "language": "python",
      "name": "python3"
    },
    "language_info": {
      "codemirror_mode": {
        "name": "ipython",
        "version": 3
      },
      "file_extension": ".py",
      "mimetype": "text/x-python",
      "name": "python",
      "nbconvert_exporter": "python",
      "pygments_lexer": "ipython3",
      "version": "3.11.5"
    },
    "colab": {
      "provenance": [],
      "include_colab_link": true
    }
  },
  "nbformat": 4,
  "nbformat_minor": 5
}