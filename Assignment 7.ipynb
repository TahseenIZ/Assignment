{
 "cells": [
  {
   "cell_type": "code",
   "execution_count": null,
   "id": "9e177a60",
   "metadata": {},
   "outputs": [
    {
     "name": "stdout",
     "output_type": "stream",
     "text": [
      "Enter a number: 50\n",
      "['Even']\n"
     ]
    }
   ],
   "source": [
    "#1. Write function to get a number from users and check whether given number is odd or even.\n",
    "def odd_or_even(num):\n",
    "    if num % 2 == 0:\n",
    "        return \"Even\"\n",
    "    else:\n",
    "        return \"Odd\"\n",
    "\n",
    "num = input(\"Enter a number: \")\n",
    "nums = list(map(int, num.split()))\n",
    "result = list(map(odd_or_even, nums))\n",
    "\n",
    "print(result)\n"
   ]
  },
  {
   "cell_type": "code",
   "execution_count": null,
   "id": "c37b8c98",
   "metadata": {},
   "outputs": [
    {
     "name": "stdout",
     "output_type": "stream",
     "text": [
      "Enter a number: 50\n",
      "[False]\n"
     ]
    }
   ],
   "source": [
    "#2. Write function to check whether given number is a prime number or not.\n",
    "def is_prime(num):\n",
    "    if num < 4:\n",
    "        return False\n",
    "    for i in range(4, int(num**0.5) + 1):\n",
    "        if num % i == 0:\n",
    "            return False\n",
    "    return True\n",
    "\n",
    "num = input(\"Enter a number: \")\n",
    "nums = list(map(int, num.split()))\n",
    "result = list(map(is_prime, nums))\n",
    "\n",
    "print(result)"
   ]
  },
  {
   "cell_type": "code",
   "execution_count": null,
   "id": "23cd3e73",
   "metadata": {},
   "outputs": [
    {
     "name": "stdout",
     "output_type": "stream",
     "text": [
      "Product of all elements: 4365900.0\n"
     ]
    }
   ],
   "source": [
    "#3. Calculate the product of all elements in a list.\n",
    "from functools import reduce\n",
    "n = [22, 54, 49, 75]\n",
    "n = list(map(float, n))\n",
    "\n",
    "product = reduce(lambda x, y: x * y, n)\n",
    "\n",
    "print(\"Product of all elements:\", product)\n"
   ]
  },
  {
   "cell_type": "code",
   "execution_count": null,
   "id": "e8437cdd",
   "metadata": {},
   "outputs": [
    {
     "name": "stdout",
     "output_type": "stream",
     "text": [
      "Square roots of the numbers: (25.0, 15.0)\n"
     ]
    }
   ],
   "source": [
    "#4. Get the square root if the number in a tuple.\n",
    "import math\n",
    "numbers_tuple = (625, 225)\n",
    "square_roots = tuple(map(math.sqrt, numbers_tuple))\n",
    "\n",
    "print(\"Square roots of the numbers:\", square_roots)\n"
   ]
  },
  {
   "cell_type": "code",
   "execution_count": null,
   "id": "7f805077",
   "metadata": {},
   "outputs": [
    {
     "name": "stdout",
     "output_type": "stream",
     "text": [
      "Prime numbers between 11 and 30: [11, 13, 17, 19, 23, 29]\n"
     ]
    }
   ],
   "source": [
    "#5. Get the prime numbers from te numbers 11 to 30.\n",
    "def is_prime(n):\n",
    "    if n < 2:\n",
    "        return False\n",
    "    for i in range(2, int(n**0.5) + 1):\n",
    "        if n % i == 0:\n",
    "            return False\n",
    "    return True\n",
    "start = 11\n",
    "end = 30\n",
    "\n",
    "prime_numbers = [num for num in range(start, end + 1) if is_prime(num)]\n",
    "\n",
    "print(\"Prime numbers between {} and {}: {}\".format(start, end, prime_numbers))\n"
   ]
  },
  {
   "cell_type": "code",
   "execution_count": null,
   "id": "6727a000",
   "metadata": {},
   "outputs": [
    {
     "name": "stdout",
     "output_type": "stream",
     "text": [
      "List 1: [1, 2, 3, 4, 5]\n"
     ]
    }
   ],
   "source": [
    "#6. Create 2 lists of integer values, add both the list element-wise and filter the values which are greater then 10 and find the products of those values.\n",
    "from functools import reduce\n",
    "list1 = [1, 2, 3, 4, 5]\n",
    "print(\"List 1:\", list1)"
   ]
  },
  {
   "cell_type": "code",
   "execution_count": null,
   "id": "7be87fc5",
   "metadata": {},
   "outputs": [
    {
     "name": "stdout",
     "output_type": "stream",
     "text": [
      "List 2: [6, 7, 8, 9, 10]\n"
     ]
    }
   ],
   "source": [
    "list2 = [6, 7, 8, 9, 10]\n",
    "print(\"List 2:\", list2)"
   ]
  },
  {
   "cell_type": "code",
   "execution_count": null,
   "id": "0f84c16f",
   "metadata": {},
   "outputs": [
    {
     "name": "stdout",
     "output_type": "stream",
     "text": [
      "Sum of lists element-wise: [7, 9, 11, 13, 15]\n"
     ]
    }
   ],
   "source": [
    "sum_result = list(map(lambda x, y: x + y, list1, list2))\n",
    "print(\"Sum of lists element-wise:\", sum_result)"
   ]
  },
  {
   "cell_type": "code",
   "execution_count": null,
   "id": "d6049097",
   "metadata": {},
   "outputs": [
    {
     "name": "stdout",
     "output_type": "stream",
     "text": [
      "Filtered values greater than 10: [11, 13, 15]\n"
     ]
    }
   ],
   "source": [
    "filtered_values = list(filter(lambda x: x > 10, sum_result))\n",
    "print(\"Filtered values greater than 10:\", filtered_values)"
   ]
  },
  {
   "cell_type": "code",
   "execution_count": null,
   "id": "43320179",
   "metadata": {},
   "outputs": [
    {
     "name": "stdout",
     "output_type": "stream",
     "text": [
      "Product of filtered values: 2145\n"
     ]
    }
   ],
   "source": [
    "product_result = reduce(lambda x, y: x * y, filtered_values)\n",
    "print(\"Product of filtered values:\", product_result)"
   ]
  },
  {
   "cell_type": "code",
   "execution_count": null,
   "id": "df9d1173",
   "metadata": {},
   "outputs": [],
   "source": []
  }
 ],
 "metadata": {
  "kernelspec": {
   "display_name": "Python 3 (ipykernel)",
   "language": "python",
   "name": "python3"
  },
  "language_info": {
   "codemirror_mode": {
    "name": "ipython",
    "version": 3
   },
   "file_extension": ".py",
   "mimetype": "text/x-python",
   "name": "python",
   "nbconvert_exporter": "python",
   "pygments_lexer": "ipython3",
   "version": "3.11.5"
  }
 },
 "nbformat": 4,
 "nbformat_minor": 5
}
