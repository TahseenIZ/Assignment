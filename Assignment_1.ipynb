{
  "cells": [
    {
      "cell_type": "markdown",
      "metadata": {
        "id": "view-in-github",
        "colab_type": "text"
      },
      "source": [
        "<a href=\"https://colab.research.google.com/github/TahseenIZ/Assignment/blob/main/Assignment_1.ipynb\" target=\"_parent\"><img src=\"https://colab.research.google.com/assets/colab-badge.svg\" alt=\"Open In Colab\"/></a>"
      ]
    },
    {
      "cell_type": "code",
      "execution_count": null,
      "id": "790b438a",
      "metadata": {
        "id": "790b438a",
        "outputId": "e0c9da64-8afc-4cb8-94b9-64d0d2927483"
      },
      "outputs": [
        {
          "data": {
            "text/plain": [
              "6"
            ]
          },
          "execution_count": 3,
          "metadata": {},
          "output_type": "execute_result"
        }
      ],
      "source": [
        "# Comments in Python begin with # (hash) and are ignored by the interpreter\n",
        "2+4  # Addition\n"
      ]
    },
    {
      "cell_type": "code",
      "execution_count": null,
      "id": "56f7741a",
      "metadata": {
        "id": "56f7741a",
        "outputId": "3c2ece42-d851-4fc7-916c-160374ed2ee3"
      },
      "outputs": [
        {
          "data": {
            "text/plain": [
              "8"
            ]
          },
          "execution_count": 4,
          "metadata": {},
          "output_type": "execute_result"
        }
      ],
      "source": [
        "2*4  # Multiplication"
      ]
    },
    {
      "cell_type": "code",
      "execution_count": null,
      "id": "bdaa024b",
      "metadata": {
        "id": "bdaa024b",
        "outputId": "27ff069d-0bd1-4f4a-fe93-483857e86287"
      },
      "outputs": [
        {
          "data": {
            "text/plain": [
              "16"
            ]
          },
          "execution_count": 5,
          "metadata": {},
          "output_type": "execute_result"
        }
      ],
      "source": [
        "2**4  # 2 raised to power 4"
      ]
    },
    {
      "cell_type": "code",
      "execution_count": null,
      "id": "3e2b8239",
      "metadata": {
        "id": "3e2b8239",
        "outputId": "6341357b-b412-4569-a8d7-c63c96cb80e0"
      },
      "outputs": [
        {
          "data": {
            "text/plain": [
              "0.5"
            ]
          },
          "execution_count": 6,
          "metadata": {},
          "output_type": "execute_result"
        }
      ],
      "source": [
        "2/4  # 2 divided by 4"
      ]
    },
    {
      "cell_type": "code",
      "execution_count": null,
      "id": "6cdfe263",
      "metadata": {
        "id": "6cdfe263",
        "outputId": "e1c5e00a-f653-4039-dc3f-76c033496c6e"
      },
      "outputs": [
        {
          "data": {
            "text/plain": [
              "9"
            ]
          },
          "execution_count": 8,
          "metadata": {},
          "output_type": "execute_result"
        }
      ],
      "source": [
        "# ---ON IDLE---\n",
        "2+3+4"
      ]
    },
    {
      "cell_type": "code",
      "execution_count": null,
      "id": "026d09eb",
      "metadata": {
        "id": "026d09eb"
      },
      "outputs": [],
      "source": [
        "# ---ON IDLE---\n",
        "fruit = ['mango', 'grape',   #List of fruits\n",
        "'apple']"
      ]
    },
    {
      "cell_type": "code",
      "execution_count": null,
      "id": "fc040f56",
      "metadata": {
        "id": "fc040f56"
      },
      "outputs": [],
      "source": [
        "alphabet = ('a', 'b',       # Tuple of alphabet\n",
        "'c', 'd')"
      ]
    },
    {
      "cell_type": "code",
      "execution_count": null,
      "id": "ad1bf0d0",
      "metadata": {
        "id": "ad1bf0d0"
      },
      "outputs": [],
      "source": [
        "opposites = {               # Dictionary of opposites\n",
        "'tall': 'short',\n",
        "'fat': 'slim',\n",
        "    }"
      ]
    },
    {
      "cell_type": "code",
      "execution_count": null,
      "id": "ed2d2e25",
      "metadata": {
        "id": "ed2d2e25",
        "outputId": "121f5a27-edb4-480f-b244-62d96e246228"
      },
      "outputs": [
        {
          "name": "stdout",
          "output_type": "stream",
          "text": [
            "11\n"
          ]
        }
      ],
      "source": [
        "# ---ON IDLE---\n",
        "a=5;b=6;print(a+b)"
      ]
    },
    {
      "cell_type": "code",
      "execution_count": null,
      "id": "e5719cc3",
      "metadata": {
        "id": "e5719cc3",
        "outputId": "725b84ff-94c9-4262-9299-3e94a4ccf7a5"
      },
      "outputs": [
        {
          "data": {
            "text/plain": [
              "['False',\n",
              " 'None',\n",
              " 'True',\n",
              " 'and',\n",
              " 'as',\n",
              " 'assert',\n",
              " 'async',\n",
              " 'await',\n",
              " 'break',\n",
              " 'class',\n",
              " 'continue',\n",
              " 'def',\n",
              " 'del',\n",
              " 'elif',\n",
              " 'else',\n",
              " 'except',\n",
              " 'finally',\n",
              " 'for',\n",
              " 'from',\n",
              " 'global',\n",
              " 'if',\n",
              " 'import',\n",
              " 'in',\n",
              " 'is',\n",
              " 'lambda',\n",
              " 'nonlocal',\n",
              " 'not',\n",
              " 'or',\n",
              " 'pass',\n",
              " 'raise',\n",
              " 'return',\n",
              " 'try',\n",
              " 'while',\n",
              " 'with',\n",
              " 'yield']"
            ]
          },
          "execution_count": 13,
          "metadata": {},
          "output_type": "execute_result"
        }
      ],
      "source": [
        "# ---ON IDLE---\n",
        "# To see list of all keywords, type the following two commands\n",
        "import keyword     # FIRST Command. Imports module keyword\n",
        "keyword.kwlist     # SECOND Command"
      ]
    },
    {
      "cell_type": "code",
      "execution_count": null,
      "id": "6cf3b99c",
      "metadata": {
        "id": "6cf3b99c",
        "outputId": "c8b0096d-7a96-4786-e736-bc1420c74946"
      },
      "outputs": [
        {
          "name": "stdout",
          "output_type": "stream",
          "text": [
            "2\n",
            "3\n"
          ]
        }
      ],
      "source": [
        "# ---ON IDLE---\n",
        "x = 2  # x \"points\" to 2\n",
        "y = x  # Now y also \"points\" to 2\n",
        "y = 3  # Now y \"points\" to 3\n",
        "print(x)\n",
        "print(y)"
      ]
    },
    {
      "cell_type": "code",
      "execution_count": null,
      "id": "279b2daf",
      "metadata": {
        "id": "279b2daf",
        "outputId": "f7f4c374-648c-4afb-8bd3-6d00066f7a40"
      },
      "outputs": [
        {
          "data": {
            "text/plain": [
              "str"
            ]
          },
          "execution_count": 15,
          "metadata": {},
          "output_type": "execute_result"
        }
      ],
      "source": [
        "# ---ON IDLE---\n",
        "x = 'abc'\n",
        "type(x)    # type() function is used to get type of an object"
      ]
    },
    {
      "cell_type": "code",
      "execution_count": null,
      "id": "899a2565",
      "metadata": {
        "id": "899a2565",
        "outputId": "1e2360d0-1c24-40d5-8fbe-18eb1b52b542"
      },
      "outputs": [
        {
          "data": {
            "text/plain": [
              "int"
            ]
          },
          "execution_count": 16,
          "metadata": {},
          "output_type": "execute_result"
        }
      ],
      "source": [
        " x=5\n",
        "type(x)"
      ]
    },
    {
      "cell_type": "code",
      "execution_count": null,
      "id": "f4989450",
      "metadata": {
        "id": "f4989450",
        "outputId": "ea3941ed-17e5-452e-82d9-f72366012592"
      },
      "outputs": [
        {
          "data": {
            "text/plain": [
              "2889669341104"
            ]
          },
          "execution_count": 17,
          "metadata": {},
          "output_type": "execute_result"
        }
      ],
      "source": [
        "# ---ON IDLE---\n",
        "myFloat = 78.11\n",
        "id(myFloat)"
      ]
    },
    {
      "cell_type": "code",
      "execution_count": null,
      "id": "f34e3429",
      "metadata": {
        "id": "f34e3429",
        "outputId": "bc11bc96-55b2-4200-9c13-d4e6e5ce18c8"
      },
      "outputs": [
        {
          "data": {
            "text/plain": [
              "78"
            ]
          },
          "execution_count": 18,
          "metadata": {},
          "output_type": "execute_result"
        }
      ],
      "source": [
        "myInt = int(myFloat)    # int() is a casting function\n",
        "myInt                    # myInt will now point to value 78"
      ]
    },
    {
      "cell_type": "code",
      "execution_count": null,
      "id": "538ceae2",
      "metadata": {
        "id": "538ceae2",
        "outputId": "e52c4bb4-0aea-4c04-b907-362cae7012ae"
      },
      "outputs": [
        {
          "data": {
            "text/plain": [
              "140722792799432"
            ]
          },
          "execution_count": 19,
          "metadata": {},
          "output_type": "execute_result"
        }
      ],
      "source": [
        "id(myInt)"
      ]
    },
    {
      "cell_type": "code",
      "execution_count": null,
      "id": "d2165c8d",
      "metadata": {
        "id": "d2165c8d",
        "outputId": "9bafa46b-9a9c-43ea-caad-d6cecf129837"
      },
      "outputs": [
        {
          "data": {
            "text/plain": [
              "140722792799432"
            ]
          },
          "execution_count": 20,
          "metadata": {},
          "output_type": "execute_result"
        }
      ],
      "source": [
        "id(78)"
      ]
    },
    {
      "cell_type": "code",
      "execution_count": null,
      "id": "69160e9e",
      "metadata": {
        "id": "69160e9e"
      },
      "outputs": [],
      "source": []
    }
  ],
  "metadata": {
    "kernelspec": {
      "display_name": "Python 3 (ipykernel)",
      "language": "python",
      "name": "python3"
    },
    "language_info": {
      "codemirror_mode": {
        "name": "ipython",
        "version": 3
      },
      "file_extension": ".py",
      "mimetype": "text/x-python",
      "name": "python",
      "nbconvert_exporter": "python",
      "pygments_lexer": "ipython3",
      "version": "3.11.5"
    },
    "colab": {
      "provenance": [],
      "include_colab_link": true
    }
  },
  "nbformat": 4,
  "nbformat_minor": 5
}