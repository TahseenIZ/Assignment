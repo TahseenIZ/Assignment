{
 "cells": [
  {
   "cell_type": "markdown",
   "id": "2695b0ad-4d2d-4c1c-b149-850fc9914164",
   "metadata": {},
   "source": [
    "# Create 5 classes of engineers with their attribute with job descriptions using inheritance."
   ]
  },
  {
   "cell_type": "code",
   "execution_count": 1,
   "id": "88c54921-f6ef-49c9-88a4-4e2fb7486604",
   "metadata": {},
   "outputs": [],
   "source": [
    "class Engineer:\n",
    "    def __init__(self, name, experience_years, education_degree):\n",
    "        self.name = name\n",
    "        self.experience_years = experience_years\n",
    "        self.education_degree = education_degree\n",
    "\n",
    "    def display_info(self):\n",
    "        print(f\"Name: {self.name}\")\n",
    "        print(f\"Experience: {self.experience_years} years\")\n",
    "        print(f\"Education: {self.education_degree}\")"
   ]
  },
  {
   "cell_type": "code",
   "execution_count": 2,
   "id": "709d5c77-987b-46c1-b78a-cf012ed4166f",
   "metadata": {},
   "outputs": [
    {
     "name": "stdout",
     "output_type": "stream",
     "text": [
      "Name: Rohit Channi\n",
      "Experience: 6 years\n",
      "Education: B.Sc. in Computer Science\n",
      "Language Proficiency: Python, SQL\n",
      "Job Description: Translates and communicates technical data to non-technical stakeholders.\n"
     ]
    }
   ],
   "source": [
    "class DataTranslator(Engineer):\n",
    "    def __init__(self, name, experience_years, education_degree, language_proficiency):\n",
    "        super().__init__(name, experience_years, education_degree)\n",
    "        self.language_proficiency = language_proficiency\n",
    "\n",
    "    def display_info(self):\n",
    "        super().display_info()\n",
    "        print(f\"Language Proficiency: {', '.join(self.language_proficiency)}\")\n",
    "        print(\"Job Description: Translates and communicates technical data to non-technical stakeholders.\")\n",
    "\n",
    "data_translator = DataTranslator(\"Rohit Channi\", 6, \"B.Sc. in Computer Science\", [\"Python\", \"SQL\"])\n",
    "data_translator.display_info()"
   ]
  },
  {
   "cell_type": "code",
   "execution_count": 3,
   "id": "6d1bb281-6de2-4160-bcb9-68ff9b784450",
   "metadata": {},
   "outputs": [
    {
     "name": "stdout",
     "output_type": "stream",
     "text": [
      "Name: Tahseen Z\n",
      "Experience: 5 years\n",
      "Education: M.Sc. in Data Science\n",
      "Analytical Skills: Machine Learning, Statistics\n",
      "Job Description: Utilizes data to provide insights and make data-driven decisions.\n"
     ]
    }
   ],
   "source": [
    "class DataScientist(Engineer):\n",
    "    def __init__(self, name, experience_years, education_degree, analytical_skills):\n",
    "        super().__init__(name, experience_years, education_degree)\n",
    "        self.analytical_skills = analytical_skills\n",
    "\n",
    "    def display_info(self):\n",
    "        super().display_info()\n",
    "        print(f\"Analytical Skills: {', '.join(self.analytical_skills)}\")\n",
    "        print(\"Job Description: Utilizes data to provide insights and make data-driven decisions.\")\n",
    "\n",
    "data_scientist = DataScientist(\"Tahseen Z\", 5, \"M.Sc. in Data Science\", [\"Machine Learning\", \"Statistics\"])\n",
    "data_scientist.display_info()"
   ]
  },
  {
   "cell_type": "code",
   "execution_count": 4,
   "id": "ae4f20d2-4c02-4598-924f-1d9ea4568dc1",
   "metadata": {},
   "outputs": [
    {
     "name": "stdout",
     "output_type": "stream",
     "text": [
      "Name: Dhanush R\n",
      "Experience: 4 years\n",
      "Education: B.A. in Design\n",
      "Design Skills: Adobe Illustrator, Sketch\n",
      "Job Description: Creates visualizations and designs to communicate complex information.\n"
     ]
    }
   ],
   "source": [
    "class InformationDesigner(Engineer):\n",
    "    def __init__(self, name, experience_years, education_degree, design_skills):\n",
    "        super().__init__(name, experience_years, education_degree)\n",
    "        self.design_skills = design_skills\n",
    "\n",
    "    def display_info(self):\n",
    "        super().display_info()\n",
    "        print(f\"Design Skills: {', '.join(self.design_skills)}\")\n",
    "        print(\"Job Description: Creates visualizations and designs to communicate complex information.\")\n",
    "\n",
    "information_designer = InformationDesigner(\"Dhanush R\", 4, \"B.A. in Design\", [\"Adobe Illustrator\", \"Sketch\"])\n",
    "information_designer.display_info()"
   ]
  },
  {
   "cell_type": "code",
   "execution_count": 5,
   "id": "c1a6bf4b-861e-4986-99b7-a1d92ddc93dd",
   "metadata": {},
   "outputs": [
    {
     "name": "stdout",
     "output_type": "stream",
     "text": [
      "Name: Zakasipthain J\n",
      "Experience: 6 years\n",
      "Education: Ph.D. in Computer Science\n",
      "Programming Languages: Deep Learning, Random Forest\n",
      "Job Description: Develops and implements machine learning models and algorithms.\n"
     ]
    }
   ],
   "source": [
    "class MachineLearningEngineer(Engineer):\n",
    "    def __init__(self, name, experience_years, education_degree, programming_languages):\n",
    "        super().__init__(name, experience_years, education_degree)\n",
    "        self.programming_languages = programming_languages\n",
    "\n",
    "    def display_info(self):\n",
    "        super().display_info()\n",
    "        print(f\"Programming Languages: {', '.join(self.programming_languages)}\")\n",
    "        print(\"Job Description: Develops and implements machine learning models and algorithms.\")\n",
    "\n",
    "ml_engineer = MachineLearningEngineer(\"Zakasipthain J\", 6, \"Ph.D. in Computer Science\", [\"Deep Learning\", \"Random Forest\"])\n",
    "ml_engineer.display_info()"
   ]
  },
  {
   "cell_type": "code",
   "execution_count": 6,
   "id": "fe933113-83ab-490c-b028-cb29b848f134",
   "metadata": {},
   "outputs": [
    {
     "name": "stdout",
     "output_type": "stream",
     "text": [
      "Name: Soumya D\n",
      "Experience: 8 years\n",
      "Education: MBA in Data Management\n",
      "Team Size: 15\n",
      "Role: Data Science Manager\n"
     ]
    }
   ],
   "source": [
    "class DataScienceManager(Engineer):\n",
    "    def __init__(self, name, experience_years, education_degree, team_size):\n",
    "        super().__init__(name, experience_years, education_degree)\n",
    "        self.team_size = team_size\n",
    "\n",
    "    def display_info(self):\n",
    "        super().display_info()\n",
    "        print(f\"Team Size: {self.team_size}\")\n",
    "        print(\"Role: Data Science Manager\")\n",
    "\n",
    "ds_manager = DataScienceManager(\"Soumya D\", 8, \"MBA in Data Management\", 15)\n",
    "ds_manager.display_info()"
   ]
  },
  {
   "cell_type": "code",
   "execution_count": null,
   "id": "d3b024ff-e66f-48f4-b14f-1e3819100d96",
   "metadata": {},
   "outputs": [],
   "source": []
  },
  {
   "cell_type": "code",
   "execution_count": null,
   "id": "fe4f6a04-ef76-4663-a6b4-21fd2dcd2971",
   "metadata": {},
   "outputs": [],
   "source": []
  }
 ],
 "metadata": {
  "kernelspec": {
   "display_name": "Python 3 (ipykernel)",
   "language": "python",
   "name": "python3"
  },
  "language_info": {
   "codemirror_mode": {
    "name": "ipython",
    "version": 3
   },
   "file_extension": ".py",
   "mimetype": "text/x-python",
   "name": "python",
   "nbconvert_exporter": "python",
   "pygments_lexer": "ipython3",
   "version": "3.11.5"
  }
 },
 "nbformat": 4,
 "nbformat_minor": 5
}
