{
 "cells": [
  {
   "cell_type": "code",
   "execution_count": 1,
   "id": "18131f32",
   "metadata": {},
   "outputs": [
    {
     "data": {
      "text/plain": [
       "30"
      ]
     },
     "execution_count": 1,
     "metadata": {},
     "output_type": "execute_result"
    }
   ],
   "source": [
    "# program to add two numbers\n",
    "\n",
    "a=10\n",
    "b=20\n",
    "sum=a+b\n",
    "sum"
   ]
  },
  {
   "cell_type": "code",
   "execution_count": 1,
   "id": "b584328f",
   "metadata": {},
   "outputs": [
    {
     "data": {
      "text/plain": [
       "2.23606797749979"
      ]
     },
     "execution_count": 1,
     "metadata": {},
     "output_type": "execute_result"
    }
   ],
   "source": [
    "# program to find the square root\n",
    "\n",
    "a=5\n",
    "sq= 5**0.5\n",
    "sq"
   ]
  },
  {
   "cell_type": "code",
   "execution_count": 1,
   "id": "544a7a7b",
   "metadata": {},
   "outputs": [
    {
     "name": "stdout",
     "output_type": "stream",
     "text": [
      "Enter the value for base = 10\n",
      "enter the value for height = 20\n",
      "the area of triangle with base 10.0 height 20.0 is 100.0\n"
     ]
    }
   ],
   "source": [
    "# program to calculate the Area of triangle\n",
    "\n",
    "b=float(input(\"Enter the value for base = \"))\n",
    "h=float(input(\"enter the value for height = \"))\n",
    "area=0.5*b*h\n",
    "print(\"the area of triangle with base\",b,\"height\",h,'is',area)"
   ]
  },
  {
   "cell_type": "code",
   "execution_count": 3,
   "id": "805c8e87",
   "metadata": {},
   "outputs": [
    {
     "name": "stdout",
     "output_type": "stream",
     "text": [
      "Enter the value for principle = 10\n",
      "Enter the value for duration = 2\n",
      "Enter the value for rate = 200\n",
      "simple interest 40.0 principle 10.0 for the duration 2.0 for the rate 200.0\n"
     ]
    }
   ],
   "source": [
    "# program for simple intrest\n",
    "\n",
    "p=float(input(\"Enter the value for principle = \"))\n",
    "t=float(input(\"Enter the value for duration = \"))\n",
    "r=float(input(\"Enter the value for rate = \"))\n",
    "si=p*t*r/100\n",
    "print(\"simple interest\",si,\"principle\",p,\"for the duration\",t,\"for the rate\",r,)"
   ]
  },
  {
   "cell_type": "code",
   "execution_count": 4,
   "id": "b16a9766",
   "metadata": {},
   "outputs": [
    {
     "name": "stdout",
     "output_type": "stream",
     "text": [
      "Enter the value for principle = 100\n",
      "Enter the value for rate = 5\n",
      "Enter the value for time = 9\n",
      "Enter the value for duration = 600\n",
      "compound interest with principle 100.0 rate 5.0 period 9.0 time 600.0 is 839900.0000000001\n"
     ]
    }
   ],
   "source": [
    "# program for compound interest\n",
    "\n",
    "p=float(input(\"Enter the value for principle = \"))\n",
    "r=float(input(\"Enter the value for rate = \"))\n",
    "n=float(input(\"Enter the value for time = \"))\n",
    "t=float(input(\"Enter the value for duration = \"))\n",
    "ci=p*(1+r/n)*n*t-p\n",
    "print(\"compound interest with principle\",p,\"rate\",r,\"period\",n,\"time\",t,'is',ci)"
   ]
  },
  {
   "cell_type": "code",
   "execution_count": null,
   "id": "09e33c1d",
   "metadata": {},
   "outputs": [],
   "source": []
  }
 ],
 "metadata": {
  "kernelspec": {
   "display_name": "Python 3 (ipykernel)",
   "language": "python",
   "name": "python3"
  },
  "language_info": {
   "codemirror_mode": {
    "name": "ipython",
    "version": 3
   },
   "file_extension": ".py",
   "mimetype": "text/x-python",
   "name": "python",
   "nbconvert_exporter": "python",
   "pygments_lexer": "ipython3",
   "version": "3.11.5"
  }
 },
 "nbformat": 4,
 "nbformat_minor": 5
}
