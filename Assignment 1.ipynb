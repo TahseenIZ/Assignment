{
 "cells": [
  {
   "cell_type": "code",
   "execution_count": 3,
   "id": "790b438a",
   "metadata": {},
   "outputs": [
    {
     "data": {
      "text/plain": [
       "6"
      ]
     },
     "execution_count": 3,
     "metadata": {},
     "output_type": "execute_result"
    }
   ],
   "source": [
    "# Comments in Python begin with # (hash) and are ignored by the interpreter\n",
    "2+4  # Addition\n"
   ]
  },
  {
   "cell_type": "code",
   "execution_count": 4,
   "id": "56f7741a",
   "metadata": {},
   "outputs": [
    {
     "data": {
      "text/plain": [
       "8"
      ]
     },
     "execution_count": 4,
     "metadata": {},
     "output_type": "execute_result"
    }
   ],
   "source": [
    "2*4  # Multiplication"
   ]
  },
  {
   "cell_type": "code",
   "execution_count": 5,
   "id": "bdaa024b",
   "metadata": {},
   "outputs": [
    {
     "data": {
      "text/plain": [
       "16"
      ]
     },
     "execution_count": 5,
     "metadata": {},
     "output_type": "execute_result"
    }
   ],
   "source": [
    "2**4  # 2 raised to power 4"
   ]
  },
  {
   "cell_type": "code",
   "execution_count": 6,
   "id": "3e2b8239",
   "metadata": {},
   "outputs": [
    {
     "data": {
      "text/plain": [
       "0.5"
      ]
     },
     "execution_count": 6,
     "metadata": {},
     "output_type": "execute_result"
    }
   ],
   "source": [
    "2/4  # 2 divided by 4"
   ]
  },
  {
   "cell_type": "code",
   "execution_count": 8,
   "id": "6cdfe263",
   "metadata": {},
   "outputs": [
    {
     "data": {
      "text/plain": [
       "9"
      ]
     },
     "execution_count": 8,
     "metadata": {},
     "output_type": "execute_result"
    }
   ],
   "source": [
    "# ---ON IDLE---\n",
    "2+3+4"
   ]
  },
  {
   "cell_type": "code",
   "execution_count": 9,
   "id": "026d09eb",
   "metadata": {},
   "outputs": [],
   "source": [
    "# ---ON IDLE---\n",
    "fruit = ['mango', 'grape',   #List of fruits\n",
    "'apple']"
   ]
  },
  {
   "cell_type": "code",
   "execution_count": 10,
   "id": "fc040f56",
   "metadata": {},
   "outputs": [],
   "source": [
    "alphabet = ('a', 'b',       # Tuple of alphabet\n",
    "'c', 'd')"
   ]
  },
  {
   "cell_type": "code",
   "execution_count": 11,
   "id": "ad1bf0d0",
   "metadata": {},
   "outputs": [],
   "source": [
    "opposites = {               # Dictionary of opposites      \n",
    "'tall': 'short',\n",
    "'fat': 'slim',\n",
    "    }"
   ]
  },
  {
   "cell_type": "code",
   "execution_count": 12,
   "id": "ed2d2e25",
   "metadata": {},
   "outputs": [
    {
     "name": "stdout",
     "output_type": "stream",
     "text": [
      "11\n"
     ]
    }
   ],
   "source": [
    "# ---ON IDLE---\n",
    "a=5;b=6;print(a+b)"
   ]
  },
  {
   "cell_type": "code",
   "execution_count": 13,
   "id": "e5719cc3",
   "metadata": {},
   "outputs": [
    {
     "data": {
      "text/plain": [
       "['False',\n",
       " 'None',\n",
       " 'True',\n",
       " 'and',\n",
       " 'as',\n",
       " 'assert',\n",
       " 'async',\n",
       " 'await',\n",
       " 'break',\n",
       " 'class',\n",
       " 'continue',\n",
       " 'def',\n",
       " 'del',\n",
       " 'elif',\n",
       " 'else',\n",
       " 'except',\n",
       " 'finally',\n",
       " 'for',\n",
       " 'from',\n",
       " 'global',\n",
       " 'if',\n",
       " 'import',\n",
       " 'in',\n",
       " 'is',\n",
       " 'lambda',\n",
       " 'nonlocal',\n",
       " 'not',\n",
       " 'or',\n",
       " 'pass',\n",
       " 'raise',\n",
       " 'return',\n",
       " 'try',\n",
       " 'while',\n",
       " 'with',\n",
       " 'yield']"
      ]
     },
     "execution_count": 13,
     "metadata": {},
     "output_type": "execute_result"
    }
   ],
   "source": [
    "# ---ON IDLE---\n",
    "# To see list of all keywords, type the following two commands\n",
    "import keyword     # FIRST Command. Imports module keyword\n",
    "keyword.kwlist     # SECOND Command"
   ]
  },
  {
   "cell_type": "code",
   "execution_count": 14,
   "id": "6cf3b99c",
   "metadata": {},
   "outputs": [
    {
     "name": "stdout",
     "output_type": "stream",
     "text": [
      "2\n",
      "3\n"
     ]
    }
   ],
   "source": [
    "# ---ON IDLE---  \n",
    "x = 2  # x \"points\" to 2\n",
    "y = x  # Now y also \"points\" to 2\n",
    "y = 3  # Now y \"points\" to 3\n",
    "print(x)\n",
    "print(y)"
   ]
  },
  {
   "cell_type": "code",
   "execution_count": 15,
   "id": "279b2daf",
   "metadata": {},
   "outputs": [
    {
     "data": {
      "text/plain": [
       "str"
      ]
     },
     "execution_count": 15,
     "metadata": {},
     "output_type": "execute_result"
    }
   ],
   "source": [
    "# ---ON IDLE---  \n",
    "x = 'abc'\n",
    "type(x)    # type() function is used to get type of an object"
   ]
  },
  {
   "cell_type": "code",
   "execution_count": 16,
   "id": "899a2565",
   "metadata": {},
   "outputs": [
    {
     "data": {
      "text/plain": [
       "int"
      ]
     },
     "execution_count": 16,
     "metadata": {},
     "output_type": "execute_result"
    }
   ],
   "source": [
    " x=5\n",
    "type(x)"
   ]
  },
  {
   "cell_type": "code",
   "execution_count": 17,
   "id": "f4989450",
   "metadata": {},
   "outputs": [
    {
     "data": {
      "text/plain": [
       "2889669341104"
      ]
     },
     "execution_count": 17,
     "metadata": {},
     "output_type": "execute_result"
    }
   ],
   "source": [
    "# ---ON IDLE---  \n",
    "myFloat = 78.11\n",
    "id(myFloat)"
   ]
  },
  {
   "cell_type": "code",
   "execution_count": 18,
   "id": "f34e3429",
   "metadata": {},
   "outputs": [
    {
     "data": {
      "text/plain": [
       "78"
      ]
     },
     "execution_count": 18,
     "metadata": {},
     "output_type": "execute_result"
    }
   ],
   "source": [
    "myInt = int(myFloat)    # int() is a casting function \n",
    "myInt                    # myInt will now point to value 78"
   ]
  },
  {
   "cell_type": "code",
   "execution_count": 19,
   "id": "538ceae2",
   "metadata": {},
   "outputs": [
    {
     "data": {
      "text/plain": [
       "140722792799432"
      ]
     },
     "execution_count": 19,
     "metadata": {},
     "output_type": "execute_result"
    }
   ],
   "source": [
    "id(myInt)"
   ]
  },
  {
   "cell_type": "code",
   "execution_count": 20,
   "id": "d2165c8d",
   "metadata": {},
   "outputs": [
    {
     "data": {
      "text/plain": [
       "140722792799432"
      ]
     },
     "execution_count": 20,
     "metadata": {},
     "output_type": "execute_result"
    }
   ],
   "source": [
    "id(78)"
   ]
  },
  {
   "cell_type": "code",
   "execution_count": null,
   "id": "69160e9e",
   "metadata": {},
   "outputs": [],
   "source": []
  }
 ],
 "metadata": {
  "kernelspec": {
   "display_name": "Python 3 (ipykernel)",
   "language": "python",
   "name": "python3"
  },
  "language_info": {
   "codemirror_mode": {
    "name": "ipython",
    "version": 3
   },
   "file_extension": ".py",
   "mimetype": "text/x-python",
   "name": "python",
   "nbconvert_exporter": "python",
   "pygments_lexer": "ipython3",
   "version": "3.11.5"
  }
 },
 "nbformat": 4,
 "nbformat_minor": 5
}
