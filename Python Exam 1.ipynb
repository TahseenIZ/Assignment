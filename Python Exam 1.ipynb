{
 "cells": [
  {
   "cell_type": "code",
   "execution_count": 1,
   "id": "c3f0c81b-d7fc-4ca9-a4af-44caf1234a8c",
   "metadata": {},
   "outputs": [
    {
     "name": "stdout",
     "output_type": "stream",
     "text": [
      "Simple Interest for a principal amount of Rs. 7500 at 7.5% interest for 3 years is Rs. 1687.5\n"
     ]
    }
   ],
   "source": [
    "# Simple interest of 7500\n",
    "\n",
    "def calculate_simple_interest(principal, rate, time):\n",
    "   \n",
    "    simple_interest = (principal * rate * time) / 100\n",
    "    return simple_interest\n",
    "\n",
    "principal_amount = 7500  \n",
    "interest_rate = 7.5\n",
    "time_period = 3         \n",
    "\n",
    "result = calculate_simple_interest(principal_amount, interest_rate, time_period)\n",
    "print(f\"Simple Interest for a principal amount of Rs. {principal_amount} at {interest_rate}% interest for {time_period} years is Rs. {result}\")\n",
    "\n"
   ]
  },
  {
   "cell_type": "code",
   "execution_count": 2,
   "id": "d213802c-1689-46f6-bdc5-89de51aac440",
   "metadata": {},
   "outputs": [
    {
     "name": "stdout",
     "output_type": "stream",
     "text": [
      "The largest number is 30\n"
     ]
    }
   ],
   "source": [
    "# python program to find the largest of three number\n",
    "\n",
    "a = 10\n",
    "b = 20\n",
    "c = 30\n",
    "\n",
    "largest = 0\n",
    "if a > b and a > c:\n",
    "    largest = a\n",
    "if b > a and b > c:\n",
    "    largest = b\n",
    "if c > a and c > b:\n",
    "    largest = c\n",
    "\n",
    "print(\"The largest number is\", largest)"
   ]
  },
  {
   "cell_type": "code",
   "execution_count": 3,
   "id": "35f3f934-d28b-4b73-919d-70d9c5c5df9a",
   "metadata": {},
   "outputs": [
    {
     "name": "stdout",
     "output_type": "stream",
     "text": [
      "Original numbers: [11, 25, 63, 94, 35]\n",
      "Squared numbers: [121, 625, 3969, 8836, 1225]\n"
     ]
    }
   ],
   "source": [
    "# write a program that uses a lambda expression to square each elements\n",
    "\n",
    "numbers = [11, 25, 63, 94, 35]\n",
    "square_function = lambda x: x**2\n",
    "\n",
    "squared_numbers = list(map(square_function, numbers))\n",
    "\n",
    "\n",
    "print(\"Original numbers:\", numbers)\n",
    "print(\"Squared numbers:\", squared_numbers)\n"
   ]
  },
  {
   "cell_type": "code",
   "execution_count": 4,
   "id": "954ff71c-4d91-4234-9c68-9ef9dabf954e",
   "metadata": {},
   "outputs": [
    {
     "name": "stdout",
     "output_type": "stream",
     "text": [
      "number\n",
      "2\n",
      "4\n",
      "6\n",
      "8\n",
      "10\n"
     ]
    }
   ],
   "source": [
    "# write a program to constructing a list of even numbers from a list of numbers in csv sheet using list compression\n",
    "\n",
    "import csv\n",
    "filename = 'C:/Users/amrit/Peace Dropbox/Amrit Kalmane/PC/Downloads/Book1 - Sheet1.csv'\n",
    "fields = []\n",
    "rows = []\n",
    "with open(filename,mode='r') as csvfile:\n",
    "    csvreader = csv.reader(csvfile)\n",
    "    fields = next(csvreader)\n",
    "    for coloumname in fields:\n",
    "        print(coloumname)\n",
    "    for row in csvreader:\n",
    "        print((type(row)))\n",
    "        rows.append(row)\n",
    "      \n",
    "    for row in rows[:10]:\n",
    "        for col in row:\n",
    "            print(\"%10s\"%col,end=\"\")\n",
    "        print(\"\\n\")"
   ]
  },
  {
   "cell_type": "code",
   "execution_count": 5,
   "id": "3109164f-cfc2-49c4-8db0-756bb7c7b363",
   "metadata": {},
   "outputs": [
    {
     "name": "stdout",
     "output_type": "stream",
     "text": [
      "Zaka J's annual salary as a Software Developer is: Rs:180000/-\n"
     ]
    }
   ],
   "source": [
    "# write a python & create a class named Employee with attributes name, position and salary. Write a method to claculate the annual salary of the employee\n",
    "\n",
    "class Employee:\n",
    "    def __init__(self, name, position, salary):\n",
    "        self.name = name\n",
    "        self.position = position\n",
    "        self.salary = salary\n",
    "\n",
    "    def calculate_annual_salary(self):\n",
    "        annual_salary = self.salary * 12\n",
    "        return annual_salary\n",
    "\n",
    "employee1 = Employee(name=\"Zaka J\", position=\"Software Developer\", salary=15000)\n",
    "\n",
    "# Calculate and display the annual salary\n",
    "annual_salary1 = employee1.calculate_annual_salary()\n",
    "print(f\"{employee1.name}'s annual salary as a {employee1.position} is: Rs:{annual_salary1}/-\")\n"
   ]
  },
  {
   "cell_type": "code",
   "execution_count": null,
   "id": "b19eeb88-fe76-43dd-be2b-6a93db6fd4cb",
   "metadata": {},
   "outputs": [],
   "source": [
    "\n"
   ]
  },
  {
   "cell_type": "code",
   "execution_count": null,
   "id": "4298d93d-fe68-4acc-8059-868db89793f8",
   "metadata": {},
   "outputs": [],
   "source": []
  }
 ],
 "metadata": {
  "kernelspec": {
   "display_name": "Python 3 (ipykernel)",
   "language": "python",
   "name": "python3"
  },
  "language_info": {
   "codemirror_mode": {
    "name": "ipython",
    "version": 3
   },
   "file_extension": ".py",
   "mimetype": "text/x-python",
   "name": "python",
   "nbconvert_exporter": "python",
   "pygments_lexer": "ipython3",
   "version": "3.11.5"
  }
 },
 "nbformat": 4,
 "nbformat_minor": 5
}
