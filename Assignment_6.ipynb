{
  "cells": [
    {
      "cell_type": "markdown",
      "metadata": {
        "id": "view-in-github",
        "colab_type": "text"
      },
      "source": [
        "<a href=\"https://colab.research.google.com/github/TahseenIZ/Assignment/blob/main/Assignment_6.ipynb\" target=\"_parent\"><img src=\"https://colab.research.google.com/assets/colab-badge.svg\" alt=\"Open In Colab\"/></a>"
      ]
    },
    {
      "cell_type": "code",
      "execution_count": null,
      "id": "9a468f9a",
      "metadata": {
        "id": "9a468f9a",
        "outputId": "fbac2412-8101-4a9e-9e3f-2a36dc50d77c"
      },
      "outputs": [
        {
          "name": "stdout",
          "output_type": "stream",
          "text": [
            "today: 2023-11-02\n",
            "Future date after 5000 days is: : 2037-07-11\n",
            "Date of birth is: 2003-05-05\n",
            "Age: 34\n"
          ]
        }
      ],
      "source": [
        "from datetime import date, timedelta\n",
        "\n",
        "\n",
        "# Task:- Calculate your age after 5000 days.\n",
        "## The output should be in years\n",
        "\n",
        "#1. Find todays date\n",
        "todaysdate=date.today()\n",
        "print('today:', todaysdate)\n",
        "\n",
        "#2. future date after 5000 days\n",
        "futuredate=todaysdate+ timedelta(days=5000)\n",
        "print('Future date after 5000 days is: :', futuredate)\n",
        "\n",
        "#3. create a date object with date of birth\n",
        "dob=date(2003,5,5)\n",
        "print('Date of birth is:', dob)\n",
        "\n",
        "#4. Calculate age by substracting two dates\n",
        "age=(futuredate.year-dob.year)\n",
        "print('Age:', age)"
      ]
    },
    {
      "cell_type": "code",
      "execution_count": null,
      "id": "d9bbef46",
      "metadata": {
        "id": "d9bbef46"
      },
      "outputs": [],
      "source": []
    }
  ],
  "metadata": {
    "kernelspec": {
      "display_name": "Python 3 (ipykernel)",
      "language": "python",
      "name": "python3"
    },
    "language_info": {
      "codemirror_mode": {
        "name": "ipython",
        "version": 3
      },
      "file_extension": ".py",
      "mimetype": "text/x-python",
      "name": "python",
      "nbconvert_exporter": "python",
      "pygments_lexer": "ipython3",
      "version": "3.11.5"
    },
    "colab": {
      "provenance": [],
      "include_colab_link": true
    }
  },
  "nbformat": 4,
  "nbformat_minor": 5
}