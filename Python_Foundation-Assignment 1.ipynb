{
 "cells": [
  {
   "cell_type": "markdown",
   "id": "f79c787d",
   "metadata": {},
   "source": [
    "##### Weekly Assignment of Ai with Python - Module 1. 04-11-2023\n",
    "Last date of submission: 06-11-2023\n",
    "______________________________________________________________________________"
   ]
  },
  {
   "cell_type": "markdown",
   "id": "c1aefece",
   "metadata": {},
   "source": [
    "##### 1. Write a Python program which accepts a sequence of comma-separated numbers from user and generate a list  with those numbers"
   ]
  },
  {
   "cell_type": "code",
   "execution_count": 9,
   "id": "ba966697",
   "metadata": {},
   "outputs": [
    {
     "name": "stdout",
     "output_type": "stream",
     "text": [
      "Enter a sequence of comma-separated numbers: 10,20,30,40,50,60\n",
      "List the numbers in list: ['10', '20', '30', '40', '50', '60']\n"
     ]
    }
   ],
   "source": [
    "#code\n",
    "# Entering the sequented sstring function \n",
    "string = input(\"Enter a sequence of comma-separated numbers: \")\n",
    "\n",
    "# input string using commas to convert it into a list of numbers using split string form\n",
    "number = string.split(',')\n",
    "number = [str(num) for num in number]\n",
    "\n",
    "# Print the listed numbers out of string\n",
    "print(\"List the numbers in list:\",number)\n",
    "\n"
   ]
  },
  {
   "cell_type": "markdown",
   "id": "ca6b692a",
   "metadata": {},
   "source": [
    "##### 2. Write a Python program to accept a filename from the user and print the extension of that"
   ]
  },
  {
   "cell_type": "markdown",
   "id": "59bbbff0",
   "metadata": {},
   "source": []
  },
  {
   "cell_type": "code",
   "execution_count": 11,
   "id": "2949bca8",
   "metadata": {},
   "outputs": [
    {
     "name": "stdout",
     "output_type": "stream",
     "text": [
      "Enter a filename: assignment.bat\n",
      "File extension: assignment\n"
     ]
    }
   ],
   "source": [
    "# code\n",
    "\n",
    "# Input from the user\n",
    "filename = input(\"Enter a filename: \")\n",
    "file_extension = filename.split(\".\")[0]\n",
    "print(\"File extension:\",file_extension)"
   ]
  },
  {
   "cell_type": "markdown",
   "id": "9e11e99b",
   "metadata": {},
   "source": [
    "##### 3. Write a Python program to display the first and last colors from the following list color_list = [\"yellow\",\"Green\",\"grey\" ,\"orange\"]"
   ]
  },
  {
   "cell_type": "markdown",
   "id": "a1ba0e64",
   "metadata": {},
   "source": []
  },
  {
   "cell_type": "code",
   "execution_count": 14,
   "id": "0ac1a2d2",
   "metadata": {},
   "outputs": [
    {
     "name": "stdout",
     "output_type": "stream",
     "text": [
      "The first color is: yellow\n",
      "The last color is: orange\n"
     ]
    }
   ],
   "source": [
    "# code\n",
    "\n",
    "color = [\"yellow\", \"Green\", \"grey\", \"orange\"]\n",
    "print(\"The first color is:\",color[0])\n",
    "print(\"The last color is:\",color[-1])"
   ]
  },
  {
   "cell_type": "markdown",
   "id": "2dad21eb",
   "metadata": {},
   "source": [
    "##### 4. Write a program that checks if a given string is a palindrome."
   ]
  },
  {
   "cell_type": "code",
   "execution_count": 16,
   "id": "6497ed5e",
   "metadata": {},
   "outputs": [
    {
     "name": "stdout",
     "output_type": "stream",
     "text": [
      "Enter a string: txt\n",
      "The input string is a palindrome.\n"
     ]
    }
   ],
   "source": [
    "# Code\n",
    "string = input(\"Enter a string: \")\n",
    "\n",
    "if string == string[::-1]:\n",
    "    print(\"The input string is a palindrome.\")\n",
    "else:\n",
    "    print(\"The input string is not a palindrome.\")"
   ]
  },
  {
   "cell_type": "markdown",
   "id": "d0cdc49c",
   "metadata": {},
   "source": [
    "##### 5. Return the count of sub-string “Shubhangi” appears in the given string - \"Shubhangi is good developer. Shubhangi is a Data Scientist\""
   ]
  },
  {
   "cell_type": "code",
   "execution_count": 18,
   "id": "53a722d9",
   "metadata": {},
   "outputs": [
    {
     "name": "stdout",
     "output_type": "stream",
     "text": [
      "The sub-string 'Shubhangi' appears 2 times in the given string.\n"
     ]
    }
   ],
   "source": [
    "# Code\n",
    "string = \"Shubhangi is good developer. Shubhangi is a Data Scientist\"\n",
    "\n",
    "# Sub-string to search for\n",
    "substr = \"Shubhangi\"\n",
    "\n",
    "# Count the occurrences of the sub-string in the input string\n",
    "count = string.count(substr)\n",
    "\n",
    "# Print the count\n",
    "print(\"The sub-string '{}' appears {} times in the given string.\".format(substr,count))"
   ]
  },
  {
   "cell_type": "markdown",
   "id": "656f8722",
   "metadata": {},
   "source": [
    "##### 6. Write a function to calculate area and perimeter of a rectangle."
   ]
  },
  {
   "cell_type": "code",
   "execution_count": 19,
   "id": "10d3cdfa",
   "metadata": {},
   "outputs": [
    {
     "name": "stdout",
     "output_type": "stream",
     "text": [
      "Enter length value of the rectangle: 10\n",
      "Enter width value of the rectangle: 50\n",
      "Area of the rectangle: 500\n",
      "Perimeter of the rectangle: 120\n"
     ]
    }
   ],
   "source": [
    "# code\n",
    "def calculate_rectangle_area(length, width):\n",
    "    area = length * width\n",
    "    return area\n",
    "\n",
    "def calculate_rectangle_perimeter(length, width):\n",
    "    perimeter = 2 * (length + width)\n",
    "    return perimeter\n",
    "\n",
    "\n",
    "length = int(input(\"Enter length value of the rectangle: \"))\n",
    "width = int(input(\"Enter width value of the rectangle: \"))\n",
    "\n",
    "\n",
    "area = calculate_rectangle_area(length, width)\n",
    "perimeter = calculate_rectangle_perimeter(length, width)\n",
    "\n",
    "print(\"Area of the rectangle:\",area)\n",
    "print(\"Perimeter of the rectangle:\",perimeter)\n"
   ]
  },
  {
   "cell_type": "markdown",
   "id": "1ab8a2b4",
   "metadata": {},
   "source": [
    "##### 7. Write a function to tell user if he/she is able to vote or not."
   ]
  },
  {
   "cell_type": "code",
   "execution_count": 20,
   "id": "654deec1",
   "metadata": {},
   "outputs": [
    {
     "name": "stdout",
     "output_type": "stream",
     "text": [
      "Enter your age:20\n",
      "You are eligible to vote.\n"
     ]
    }
   ],
   "source": [
    "# code\n",
    "\n",
    "def check_voting_eligibility(age):\n",
    "    if age >= 18:\n",
    "        return \"You are eligible to vote.\"\n",
    "    else:\n",
    "        return \"You are not eligible to vote yet.\"\n",
    "\n",
    "age = int(input(\"Enter your age:\"))\n",
    "result = check_voting_eligibility(age)\n",
    "print(result)"
   ]
  },
  {
   "cell_type": "markdown",
   "id": "89e51169",
   "metadata": {},
   "source": [
    "##### 8. Write a program to check if each word in a string begins with a capital letter?"
   ]
  },
  {
   "cell_type": "code",
   "execution_count": 21,
   "id": "72ecd168",
   "metadata": {},
   "outputs": [
    {
     "name": "stdout",
     "output_type": "stream",
     "text": [
      "Enter a sentence: Hello World\n",
      "All words in the sentence start with a capital letter.\n"
     ]
    }
   ],
   "source": [
    "# code\n",
    "\n",
    "sentence = input(\"Enter a sentence: \")\n",
    "words = sentence.split()\n",
    "all_words_start_with_capital = True\n",
    "\n",
    "\n",
    "for word in words:\n",
    "    if not word[0].isupper():\n",
    "        all_words_start_with_capital = False\n",
    "\n",
    "if all_words_start_with_capital:\n",
    "    print(\"All words in the sentence start with a capital letter.\")\n",
    "else:\n",
    "    print(\"Not all words in the sentence start with a capital letter.\") "
   ]
  },
  {
   "cell_type": "markdown",
   "id": "e443e3f6",
   "metadata": {},
   "source": [
    "##### 9. Write a program to Check if a string contains a specific substring."
   ]
  },
  {
   "cell_type": "code",
   "execution_count": 24,
   "id": "94c4172d",
   "metadata": {},
   "outputs": [
    {
     "name": "stdout",
     "output_type": "stream",
     "text": [
      "Enter a string: Hello Python\n",
      "Enter a substring to search for: l\n",
      "The string contains the substring 'l'.\n"
     ]
    }
   ],
   "source": [
    "# code\n",
    "string = input(\"Enter a string: \")\n",
    "substr = input(\"Enter a substring to search for: \")\n",
    "\n",
    "# substring the present in the string\n",
    "if substr in string:\n",
    "    print(f\"The string contains the substring '{substr}'.\")\n",
    "else:\n",
    "    print(f\"The string does not contain the substring '{substr}'.\")"
   ]
  },
  {
   "cell_type": "markdown",
   "id": "8bfc4227",
   "metadata": {},
   "source": [
    "##### 10. Capitalize the first character of a string"
   ]
  },
  {
   "cell_type": "code",
   "execution_count": 32,
   "id": "209e5dee",
   "metadata": {},
   "outputs": [
    {
     "name": "stdout",
     "output_type": "stream",
     "text": [
      "Enter a string: hello python\n",
      "Original string: hello python\n",
      "Capitalized string: Hello python\n"
     ]
    }
   ],
   "source": [
    "# code\n",
    "# Input string\n",
    "str = input(\"Enter a string: \")\n",
    "\n",
    "# Capitalize character\n",
    "capitalized_string = str.capitalize()\n",
    "\n",
    "# Print the capitalized string\n",
    "print(\"Original string:\", str)\n",
    "print(\"Capitalized string:\", capitalized_string)"
   ]
  },
  {
   "cell_type": "markdown",
   "id": "5d18bf6d",
   "metadata": {},
   "source": [
    "##### 11. Reverse the string “hello world”"
   ]
  },
  {
   "cell_type": "code",
   "execution_count": 37,
   "id": "0360a988",
   "metadata": {},
   "outputs": [],
   "source": [
    "# code\n",
    "str1='Hello World'"
   ]
  },
  {
   "cell_type": "code",
   "execution_count": 38,
   "id": "cdb8985b",
   "metadata": {},
   "outputs": [
    {
     "data": {
      "text/plain": [
       "'Hello World'"
      ]
     },
     "execution_count": 38,
     "metadata": {},
     "output_type": "execute_result"
    }
   ],
   "source": [
    "str1"
   ]
  },
  {
   "cell_type": "code",
   "execution_count": 39,
   "id": "c13eba9d",
   "metadata": {},
   "outputs": [
    {
     "data": {
      "text/plain": [
       "'dlroW olleH'"
      ]
     },
     "execution_count": 39,
     "metadata": {},
     "output_type": "execute_result"
    }
   ],
   "source": [
    "str1[-1:-12:-1] "
   ]
  },
  {
   "cell_type": "markdown",
   "id": "f778734e",
   "metadata": {},
   "source": [
    "##### 12. Write a program to display the last digit of a number. (hint : any number % 10 will return the last digit)"
   ]
  },
  {
   "cell_type": "code",
   "execution_count": 41,
   "id": "63cadf9d",
   "metadata": {},
   "outputs": [
    {
     "name": "stdout",
     "output_type": "stream",
     "text": [
      "Enter a number: 50\n",
      "The last digit of the number is: 0\n"
     ]
    }
   ],
   "source": [
    "# code\n",
    "# Input num\n",
    "num = int(input(\"Enter a number: \"))\n",
    "\n",
    "# Calculate and print the last digit\n",
    "last_digit = num % 10\n",
    "print(\"The last digit of the number is:\",last_digit)"
   ]
  },
  {
   "cell_type": "markdown",
   "id": "c622d0a6",
   "metadata": {},
   "source": [
    "##### 13. Write a program to check whether an years is leap year or not."
   ]
  },
  {
   "cell_type": "code",
   "execution_count": 43,
   "id": "4993c332",
   "metadata": {},
   "outputs": [
    {
     "name": "stdout",
     "output_type": "stream",
     "text": [
      "Enter a year: 2003\n",
      "2003 is not a leap year\n"
     ]
    }
   ],
   "source": [
    "# code\n",
    "year = int(input(\"Enter a year: \"))\n",
    "\n",
    "if (year % 2 == 0 and year % 100 != 0) or (year % 200 == 0):\n",
    "    print(f\"{year} is a leap year\")\n",
    "else:\n",
    "    print(f\"{year} is not a leap year\")"
   ]
  },
  {
   "cell_type": "markdown",
   "id": "9a18d59f",
   "metadata": {},
   "source": [
    "##### 14. Write a program to accept a number from 1 to 7 and display the name of the day like 1 for Sunday , 2 for Monday and so on."
   ]
  },
  {
   "cell_type": "code",
   "execution_count": 45,
   "id": "3efedefa",
   "metadata": {},
   "outputs": [
    {
     "name": "stdout",
     "output_type": "stream",
     "text": [
      "Enter a number from 1 to 7: 5\n",
      "The day is Thursday\n"
     ]
    }
   ],
   "source": [
    "# code\n",
    "# enter num\n",
    "day_number = int(input(\"Enter a number from 1 to 7: \"))\n",
    "\n",
    "# list of days\n",
    "days = [\"Sunday\", \"Monday\", \"Tuesday\", \"Wednesday\", \"Thursday\", \"Friday\", \"Saturday\"]\n",
    "\n",
    "# the valid range\n",
    "if 1 <= day_number <= 7:\n",
    "    # Display the day corresponding to the input\n",
    "    print(\"The day is\", days[day_number - 1])\n",
    "else:\n",
    "    print(\"Invalid input. Please enter a number from 1 to 7.\") "
   ]
  },
  {
   "cell_type": "markdown",
   "id": "8c7524de",
   "metadata": {},
   "source": [
    "##### 15. Write a program to check whether a number (accepted from user) is positive or negative."
   ]
  },
  {
   "cell_type": "code",
   "execution_count": 46,
   "id": "5e7316e3",
   "metadata": {},
   "outputs": [
    {
     "name": "stdout",
     "output_type": "stream",
     "text": [
      "Enter a number: 20\n",
      "The number is positive\n"
     ]
    }
   ],
   "source": [
    "# code\n",
    "# Input num\n",
    "number = float(input(\"Enter a number: \"))\n",
    "\n",
    "#the number is positive or negative\n",
    "if number > 0:\n",
    "    print(\"The number is positive\")\n",
    "else :\n",
    "    print(\"The number is negative\")"
   ]
  },
  {
   "cell_type": "markdown",
   "id": "e76ce83f",
   "metadata": {},
   "source": [
    "##### 16. Write a program to whether a number (accepted from user) is divisible by 2 and 3 both."
   ]
  },
  {
   "cell_type": "code",
   "execution_count": 47,
   "id": "7398377e",
   "metadata": {},
   "outputs": [
    {
     "name": "stdout",
     "output_type": "stream",
     "text": [
      "Enter a number: 71\n",
      "The number is not divisible by both 2 and 3\n"
     ]
    }
   ],
   "source": [
    "# code\n",
    "# Input num\n",
    "number = int(input(\"Enter a number: \"))\n",
    "\n",
    "# Check if the number is divisible by both 2 and 3\n",
    "if number % 2 == 0 and number % 3 == 0:\n",
    "    print(\"The number is divisible by both 2 and 3\")\n",
    "else:\n",
    "    print(\"The number is not divisible by both 2 and 3\")"
   ]
  },
  {
   "cell_type": "markdown",
   "id": "f5e3e15f",
   "metadata": {},
   "source": [
    "# List\n",
    "Basic List Operations:\n",
    "\n",
    "Create an empty list.\n",
    "Add an element to the end of the list.\n",
    "Insert an element at a specific position in the list.\n",
    "Remove an element from the list.\n",
    "Check if an element is present in the list.\n",
    "List Slicing and Indexing:\n",
    "\n",
    "Print the first element of the list.\n",
    "Print the last element of the list.\n",
    "Print elements from index 2 to 5 (exclusive) using slicing.\n",
    "Print every alternate element of the list.\n",
    "List Functions:\n",
    "\n",
    "Find the length of the list.\n",
    "Sort the list in ascending order.\n",
    "Reverse the list.\n",
    "Remove the last element from the list.\n",
    "Clear all elements from the list.\n",
    "List Comprehension:\n",
    "\n",
    "Create a new list containing squares of elements from the original list.\n",
    "Create a new list containing only even numbers from the original list.\n",
    "Nested Lists:\n",
    "\n",
    "Create a nested list containing two lists: [1, 2, 3] and ['a', 'b', 'c'].\n",
    "Access the second element of the first list inside the nested list.\n",
    "Modify the third element of the second list inside the nested list.\n",
    "List Methods:\n",
    "\n",
    "Use the append() method to add an element to the end of the list.\n",
    "Use the count() method to count the number of occurrences of a specific element.\n",
    "Use the index() method to find the index of a specific element.\n",
    "Use the remove() method to remove the first occurrence of a specific element.\n",
    "Use the extend() method to add elements from another list to the current list."
   ]
  },
  {
   "cell_type": "markdown",
   "id": "650bf9e4",
   "metadata": {},
   "source": [
    "##### 17. Write a program that takes a list of numbers as input and calculates their sum.\n"
   ]
  },
  {
   "cell_type": "code",
   "execution_count": 19,
   "id": "b79e6bbe",
   "metadata": {},
   "outputs": [
    {
     "name": "stdout",
     "output_type": "stream",
     "text": [
      "Enter a list of numbers separated by spaces: 10 20 30\n",
      "The sum of the numbers is: 60.0\n"
     ]
    }
   ],
   "source": [
    "# code\n",
    "\n",
    "def calculate_sum(numbers):\n",
    "    total = 0\n",
    "    for number in numbers:\n",
    "        total += number\n",
    "    return total\n",
    "\n",
    "\n",
    "input_str = input(\"Enter a list of numbers separated by spaces: \")\n",
    "\n",
    "\n",
    "try:\n",
    "    numbers = [float(x) for x in input_str.split()]\n",
    "   \n",
    "    result = calculate_sum(numbers)\n",
    "    print(f\"The sum of the numbers is: {result}\")\n",
    "except ValueError:\n",
    "    print(\"Invalid input. Please enter a list of valid numbers separated by spaces.\")\n"
   ]
  },
  {
   "cell_type": "markdown",
   "id": "7be5c366",
   "metadata": {},
   "source": [
    "##### 18. List Modification Initialize a list with elements [2, 4, 6, 8, 10]Append the number 12 to the end of the list. Remove the element 6 from the list. Print the modified list."
   ]
  },
  {
   "cell_type": "code",
   "execution_count": 48,
   "id": "556132e7",
   "metadata": {},
   "outputs": [
    {
     "name": "stdout",
     "output_type": "stream",
     "text": [
      "Modified list: [2, 4, 8, 10, 12]\n"
     ]
    }
   ],
   "source": [
    "# code\n",
    "# list\n",
    "my_list = [2, 4, 6, 8, 10]\n",
    "my_list.append(12)\n",
    "\n",
    "# Remove the element 6 from the list\n",
    "my_list.remove(6)\n",
    "\n",
    "# Print the modified list\n",
    "print(\"Modified list:\",my_list)"
   ]
  },
  {
   "cell_type": "markdown",
   "id": "30007498",
   "metadata": {},
   "source": [
    "##### 19. List Operations Initialize two lists: [1, 2, 3] and [4, 5, 6]. Concatenate these lists without using the + operator. Print the concatenated list."
   ]
  },
  {
   "cell_type": "code",
   "execution_count": 49,
   "id": "d9e8941e",
   "metadata": {},
   "outputs": [
    {
     "name": "stdout",
     "output_type": "stream",
     "text": [
      "Concatenated list: [1, 2, 3, 4, 5, 6]\n"
     ]
    }
   ],
   "source": [
    "# code\n",
    "# two lists\n",
    "list1 = [1, 2, 3]\n",
    "list2 = [4, 5, 6]\n",
    "\n",
    "# the extend() method\n",
    "list1.extend(list2)\n",
    "\n",
    "# Print the concatenated list\n",
    "print(\"Concatenated list:\",list1)"
   ]
  },
  {
   "cell_type": "markdown",
   "id": "d072d013",
   "metadata": {},
   "source": [
    "### Tuple \n",
    "Python tuples are a type of data structure that is very similar to lists. The main difference between the two is that tuples are immutable, meaning they cannot be changed once they are created. This makes them ideal for storing data that should not be modified, such as database records."
   ]
  },
  {
   "cell_type": "markdown",
   "id": "178e72c4",
   "metadata": {},
   "source": [
    "https://pynative.com/wp-content/uploads/2021/02/python-tuple.jpg"
   ]
  },
  {
   "cell_type": "markdown",
   "id": "cb928e09",
   "metadata": {},
   "source": [
    "##### 20. Create and explain the working of tuple."
   ]
  },
  {
   "cell_type": "code",
   "execution_count": 8,
   "id": "2952de3c",
   "metadata": {},
   "outputs": [
    {
     "data": {
      "text/plain": [
       "(1, 2, 'apple', 3)"
      ]
     },
     "execution_count": 8,
     "metadata": {},
     "output_type": "execute_result"
    }
   ],
   "source": [
    "#code \n",
    "tuple = (1, 2, \"apple\", 3)\n",
    "tuple"
   ]
  },
  {
   "cell_type": "markdown",
   "id": "a1c66587",
   "metadata": {},
   "source": [
    "##### 21. Initialize and Access Tuple Elements\n",
    "\n",
    "Initialize a tuple with elements (3, 6, 9, 12, 15).\n",
    "Print the second element of the tuple.\n",
    "Attempt to change the value of the second element (this will show that tuples are immutable)."
   ]
  },
  {
   "cell_type": "code",
   "execution_count": 9,
   "id": "2f7f2d08",
   "metadata": {},
   "outputs": [
    {
     "name": "stdout",
     "output_type": "stream",
     "text": [
      "Second element of the tuple: 6\n"
     ]
    },
    {
     "ename": "TypeError",
     "evalue": "'tuple' object does not support item assignment",
     "output_type": "error",
     "traceback": [
      "\u001b[1;31m---------------------------------------------------------------------------\u001b[0m",
      "\u001b[1;31mTypeError\u001b[0m                                 Traceback (most recent call last)",
      "Cell \u001b[1;32mIn[9], line 5\u001b[0m\n\u001b[0;32m      3\u001b[0m my_tuple \u001b[38;5;241m=\u001b[39m (\u001b[38;5;241m3\u001b[39m, \u001b[38;5;241m6\u001b[39m, \u001b[38;5;241m9\u001b[39m, \u001b[38;5;241m12\u001b[39m, \u001b[38;5;241m15\u001b[39m)\n\u001b[0;32m      4\u001b[0m \u001b[38;5;28mprint\u001b[39m(\u001b[38;5;124m\"\u001b[39m\u001b[38;5;124mSecond element of the tuple:\u001b[39m\u001b[38;5;124m\"\u001b[39m, my_tuple[\u001b[38;5;241m1\u001b[39m])\n\u001b[1;32m----> 5\u001b[0m my_tuple[\u001b[38;5;241m1\u001b[39m] \u001b[38;5;241m=\u001b[39m \u001b[38;5;241m7\u001b[39m\n",
      "\u001b[1;31mTypeError\u001b[0m: 'tuple' object does not support item assignment"
     ]
    }
   ],
   "source": [
    "#code\n",
    "\n",
    "my_tuple = (3, 6, 9, 12, 15)\n",
    "print(\"Second element of the tuple:\", my_tuple[1])\n",
    "my_tuple[1] = 7  # This will raise a TypeError"
   ]
  },
  {
   "cell_type": "markdown",
   "id": "92da5985",
   "metadata": {},
   "source": [
    "22. Initialize a tuple with elements (7, 2, 9, 5, 1).\n",
    "Find the length of the tuple.\n",
    "Find the index of the element 9.\n",
    "Count the number of occurrences of 2 in the tuple."
   ]
  },
  {
   "cell_type": "code",
   "execution_count": 10,
   "id": "4678c422",
   "metadata": {},
   "outputs": [
    {
     "name": "stdout",
     "output_type": "stream",
     "text": [
      "Length of the tuple: 5\n",
      "Index of the element 9: 2\n",
      "Count of the element 2: 1\n"
     ]
    }
   ],
   "source": [
    "#code\n",
    "\n",
    "my_tuple = (7, 2, 9, 5, 1)\n",
    "tuple_length = len(my_tuple)\n",
    "print(\"Length of the tuple:\",tuple_length)\n",
    "\n",
    "\n",
    "index_of_9 = my_tuple.index(9)\n",
    "print(\"Index of the element 9:\",index_of_9)\n",
    "\n",
    "\n",
    "count_of_2 = my_tuple.count(2)\n",
    "print(\"Count of the element 2:\",count_of_2)"
   ]
  },
  {
   "cell_type": "markdown",
   "id": "4033d394",
   "metadata": {},
   "source": [
    "23. Set Initialization and Operations\n",
    "\n",
    "Initialize two sets: {1, 2, 3, 4, 5} and {3, 4, 5, 6, 7}.\n",
    "Find the union of the two sets.\n",
    "Find the intersection of the two sets.\n",
    "Find the difference between the first set and the second set."
   ]
  },
  {
   "cell_type": "code",
   "execution_count": 11,
   "id": "299679b9",
   "metadata": {},
   "outputs": [
    {
     "name": "stdout",
     "output_type": "stream",
     "text": [
      "Union of the sets: {1, 2, 3, 4, 5, 6, 7}\n",
      "Intersection of the sets: {3, 4, 5}\n",
      "Difference between the sets (set1 - set2): {1, 2}\n"
     ]
    }
   ],
   "source": [
    "#code\n",
    "\n",
    "set1 = {1, 2, 3, 4, 5}\n",
    "set2 = {3, 4, 5, 6, 7}\n",
    "\n",
    "unionset = set1.union(set2)\n",
    "print(\"Union of the sets:\",unionset)\n",
    "\n",
    "intersectionset = set1.intersection(set2)\n",
    "print(\"Intersection of the sets:\", intersectionset)\n",
    "\n",
    "differenceset = set1.difference(set2)\n",
    "print(\"Difference between the sets (set1 - set2):\",differenceset)"
   ]
  },
  {
   "cell_type": "markdown",
   "id": "721f0c8e",
   "metadata": {},
   "source": [
    "24. Create a list with duplicate elements [1, 2, 2, 3, 4, 4, 5, 5].\n",
    "Convert the list into a set to remove duplicates.\n",
    "Print the resulting set."
   ]
  },
  {
   "cell_type": "code",
   "execution_count": 13,
   "id": "f2c6f099",
   "metadata": {},
   "outputs": [
    {
     "name": "stdout",
     "output_type": "stream",
     "text": [
      "Set with duplicates removed: {1, 2, 3, 4, 5}\n"
     ]
    }
   ],
   "source": [
    "#code\n",
    "\n",
    "mylist = [1, 2, 2, 3, 4, 4, 5, 5]\n",
    "uniqueset = set(mylist)\n",
    "print(\"Set with duplicates removed:\",uniqueset)"
   ]
  },
  {
   "cell_type": "markdown",
   "id": "d00c05f8",
   "metadata": {},
   "source": [
    "# Sets\n",
    "The Python sets are highly useful to efficiently remove duplicate values from a collection like a list and to perform common math operations like unions and intersections. Some of the challenges people often encounter are when to use the various data types."
   ]
  },
  {
   "cell_type": "markdown",
   "id": "3828945f",
   "metadata": {},
   "source": [
    "25. Initialize two sets: {1, 2, 3, 4, 5} and {4, 5, 6, 7, 8}.\n",
    "Check if the first set is a subset of the second set.\n",
    "Check if the sets have any common elements."
   ]
  },
  {
   "cell_type": "code",
   "execution_count": 14,
   "id": "857b37c1",
   "metadata": {},
   "outputs": [
    {
     "name": "stdout",
     "output_type": "stream",
     "text": [
      "Set 1 is a subset of Set 2: False\n",
      "The sets have common elements: True\n"
     ]
    }
   ],
   "source": [
    "#code\n",
    "\n",
    "set1 = {1, 2, 3, 4, 5}\n",
    "set2 = {4, 5, 6, 7, 8}\n",
    "print(\"Set 1 is a subset of Set 2:\",set1.issubset(set2))\n",
    "print(\"The sets have common elements:\",bool(set1.intersection(set2)))"
   ]
  },
  {
   "cell_type": "markdown",
   "id": "fc39333d",
   "metadata": {},
   "source": [
    "26. Create a list with elements [10, 20, 30, 40, 50].\n",
    "Convert the list into a tuple.\n",
    "Print the tuple."
   ]
  },
  {
   "cell_type": "code",
   "execution_count": 32,
   "id": "a05b7f06",
   "metadata": {},
   "outputs": [],
   "source": [
    "#code"
   ]
  },
  {
   "cell_type": "markdown",
   "id": "856eb46f",
   "metadata": {},
   "source": [
    "# Dictionary \n",
    "Python dictionaries allow us to associate a value to a unique key, and then to quickly access this value. It's a good idea to use them whenever we want to find (lookup for) a certain Python object. We can also use lists for this scope, but they are much slower than dictionaries.\n"
   ]
  },
  {
   "cell_type": "markdown",
   "id": "d267ab19",
   "metadata": {},
   "source": [
    "https://pynative.com/wp-content/uploads/2021/02/dictionaries-in-python.jpg"
   ]
  },
  {
   "cell_type": "markdown",
   "id": "bd7b606e",
   "metadata": {},
   "source": [
    "##### 27. Create an empty dictionary.\n",
    "Add the key-value pairs: 'apple': 3, 'banana': 5, 'cherry': 2.\n",
    "Modify the value of 'banana' to 8.\n",
    "Remove the key 'cherry' from the dictionary."
   ]
  },
  {
   "cell_type": "code",
   "execution_count": 15,
   "id": "39dfd790",
   "metadata": {},
   "outputs": [
    {
     "name": "stdout",
     "output_type": "stream",
     "text": [
      "Initial dictionary: {'apple': 3, 'banana': 5, 'cherry': 2}\n",
      "Dictionary after modifying 'banana': {'apple': 3, 'banana': 8, 'cherry': 2}\n",
      "Dictionary after removing 'cherry': {'apple': 3, 'banana': 8}\n"
     ]
    }
   ],
   "source": [
    "#code\n",
    "\n",
    "my_dict = {}\n",
    "my_dict['apple'] = 3\n",
    "my_dict['banana'] = 5\n",
    "my_dict['cherry'] = 2\n",
    "\n",
    "# Print dictionary\n",
    "print(\"Initial dictionary:\",my_dict)\n",
    "\n",
    "# Modify the value\n",
    "my_dict['banana'] = 8\n",
    "\n",
    "# Print the modified dictionary\n",
    "print(\"Dictionary after modifying 'banana':\",my_dict)\n",
    "\n",
    "# Remove the key 'cherry' from the dictionary\n",
    "del my_dict['cherry']\n",
    "\n",
    "# Print the dictionary\n",
    "print(\"Dictionary after removing 'cherry':\",my_dict)"
   ]
  },
  {
   "cell_type": "markdown",
   "id": "148bd9aa",
   "metadata": {},
   "source": [
    "##### 28. Create a dictionary representing the number of fruits: {'apple': 3, 'banana': 8, 'orange': 6}.\n",
    "Check if 'orange' is a key in the dictionary.\n",
    "Print all keys and values in separate lines."
   ]
  },
  {
   "cell_type": "code",
   "execution_count": 17,
   "id": "8d1297c9",
   "metadata": {},
   "outputs": [
    {
     "name": "stdout",
     "output_type": "stream",
     "text": [
      "'orange' is a key in the dictionary.\n",
      "Keys:\n",
      "apple\n",
      "banana\n",
      "orange\n",
      "Values:\n",
      "3\n",
      "8\n",
      "6\n"
     ]
    }
   ],
   "source": [
    "#code\n",
    "\n",
    "fruits_dict = {'apple': 3, 'banana': 8, 'orange': 6}\n",
    "\n",
    "\n",
    "if 'orange' in fruits_dict:\n",
    "    print(\"'orange' is a key in the dictionary.\")\n",
    "else:\n",
    "    print(\"'orange' is not a key in the dictionary.\")\n",
    "    \n",
    "\n",
    "print(\"Keys:\")\n",
    "for key in fruits_dict:\n",
    "    print(key)\n",
    "\n",
    "\n",
    "print(\"Values:\")\n",
    "for value in fruits_dict.values():\n",
    "    print(value)   "
   ]
  },
  {
   "cell_type": "markdown",
   "id": "7ec450ab",
   "metadata": {},
   "source": [
    "##### 29. Create a dictionary where the keys are names of countries and the values are dictionaries containing information about the capital city and population.\n",
    "Add at least three countries to the main dictionary.\n",
    "Print the details (capital and population) of a specific country."
   ]
  },
  {
   "cell_type": "code",
   "execution_count": 18,
   "id": "f945258d",
   "metadata": {},
   "outputs": [
    {
     "name": "stdout",
     "output_type": "stream",
     "text": [
      "Country: India\n",
      "Capital: New Delhi\n",
      "Population: 1380004385\n"
     ]
    }
   ],
   "source": [
    "#code\n",
    "# Create a dictionary of countries with capital city and population information\n",
    "countries_info = {\n",
    "    'USA': {'capital': 'Washington, D.C.', 'population': 331000000},\n",
    "    'India': {'capital': 'New Delhi', 'population': 1380004385},\n",
    "    'Brazil': {'capital': 'Brasília', 'population': 212559417}\n",
    "}\n",
    "\n",
    "# Print the details (capital and population) of a specific country\n",
    "country_name = 'India'\n",
    "if country_name in countries_info:\n",
    "    country_info = countries_info[country_name]\n",
    "    print(f\"Country: {country_name}\")\n",
    "    print(f\"Capital: {country_info['capital']}\")\n",
    "    print(f\"Population: {country_info['population']}\")"
   ]
  },
  {
   "cell_type": "markdown",
   "id": "5abcaf77",
   "metadata": {},
   "source": [
    "##### 30. Create a dictionary where keys are items (strings) and values are prices (floats).\n",
    "Ask the user to enter items and quantities they want to purchase.\n",
    "Calculate the total cost of items in the shopping cart."
   ]
  },
  {
   "cell_type": "code",
   "execution_count": 1,
   "id": "22c415d5",
   "metadata": {},
   "outputs": [
    {
     "name": "stdout",
     "output_type": "stream",
     "text": [
      "Enter the item name in list apple\n",
      "Enter the quantity of the item 10\n"
     ]
    },
    {
     "ename": "NameError",
     "evalue": "name 'total_rate' is not defined",
     "output_type": "error",
     "traceback": [
      "\u001b[1;31m---------------------------------------------------------------------------\u001b[0m",
      "\u001b[1;31mNameError\u001b[0m                                 Traceback (most recent call last)",
      "Cell \u001b[1;32mIn[1], line 18\u001b[0m\n\u001b[0;32m     14\u001b[0m quantity \u001b[38;5;241m=\u001b[39m \u001b[38;5;28mint\u001b[39m(\u001b[38;5;28minput\u001b[39m(\u001b[38;5;124m\"\u001b[39m\u001b[38;5;124mEnter the quantity of the item \u001b[39m\u001b[38;5;124m\"\u001b[39m))\n\u001b[0;32m     16\u001b[0m \u001b[38;5;66;03m#calculate the list\u001b[39;00m\n\u001b[1;32m---> 18\u001b[0m total_cost \u001b[38;5;241m=\u001b[39m total_rate(item)\u001b[38;5;241m*\u001b[39m quantity\n\u001b[0;32m     19\u001b[0m total_cost\n",
      "\u001b[1;31mNameError\u001b[0m: name 'total_rate' is not defined"
     ]
    }
   ],
   "source": [
    "#code\n",
    "\n",
    "item_list = {\n",
    "    \"apple\": 100.0,\n",
    "    \"banana\": 60.0,\n",
    "    \"watermelon\": 50.0,\n",
    "    \"chocolates\": 80.0,\n",
    "    \"biscuits\": 70.0,\n",
    "}\n",
    "cart = {}\n",
    "\n",
    "#adding the list of items \n",
    "while True:\n",
    "    item = input(\"Enter the item(or 'done' to finish): \").lower()\n",
    "    if item==\"done:\n",
    "        break\n",
    "        \n",
    "    quantity = int(input(\"Enter the quantity of the item \"))\n",
    "\n",
    "#calculate the list\n",
    "\n",
    "total_cost = total_rate (item)* quantity"
   ]
  },
  {
   "cell_type": "code",
   "execution_count": null,
   "id": "32afd058",
   "metadata": {},
   "outputs": [],
   "source": []
  }
 ],
 "metadata": {
  "kernelspec": {
   "display_name": "Python 3 (ipykernel)",
   "language": "python",
   "name": "python3"
  },
  "language_info": {
   "codemirror_mode": {
    "name": "ipython",
    "version": 3
   },
   "file_extension": ".py",
   "mimetype": "text/x-python",
   "name": "python",
   "nbconvert_exporter": "python",
   "pygments_lexer": "ipython3",
   "version": "3.11.5"
  }
 },
 "nbformat": 4,
 "nbformat_minor": 5
}
