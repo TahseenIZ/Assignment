{
 "cells": [
  {
   "cell_type": "markdown",
   "id": "0e2a0eed-b978-4bb6-a149-238642f55aed",
   "metadata": {},
   "source": [
    "# Assignment 10:~\n",
    "## Task1: Create 5 different classes of real world object with 4 properties in each class and call function from each class to print the attribute of that specific class."
   ]
  },
  {
   "cell_type": "code",
   "execution_count": 2,
   "id": "82cc1147-c46a-434f-be9b-6e7c2d90e6a9",
   "metadata": {},
   "outputs": [
    {
     "name": "stdout",
     "output_type": "stream",
     "text": [
      "WE HAVE rough book, WHERE MANY STUDENTS USE IT AND ALSO WE HAVE register book,\n",
      "WHERE MANY BUSINESS PEOPLE USE IT FOR ACCOUNTS AND DATA ENTRY AND HENCE WE ALSO HAVE spiral book,IN THE END OF THE SALE WE HAVE king size book.\n"
     ]
    }
   ],
   "source": []
  },
  {
   "cell_type": "code",
   "execution_count": 1,
   "id": "93a64a2d-289d-4ef2-9eb8-de9b3692e665",
   "metadata": {},
   "outputs": [
    {
     "name": "stdout",
     "output_type": "stream",
     "text": [
      " One of the world wide famous brand that is Apple which contains a massive upgraded feature which is IOS 17 it contains of huge range of storage 256gb which deals with a best selling price of 1,59,999 Rs \n"
     ]
    }
   ],
   "source": [
    "class Mobile:   \n",
    "    def __init__(self, brand, feature, storage, price):\n",
    "        self.brand=brand\n",
    "        self.feature=feature\n",
    "        self.storage=storage\n",
    "        self.price=price\n",
    "    def print_info(self): \n",
    "        print(f' One of the world wide famous brand that is {self.brand} which contains a massive upgraded feature which is {self.feature} it contains of huge range of storage {self.storage} which deals with a best selling price of {self.price} Rs ')   \n",
    "\n",
    "mobile=Mobile(\"Apple\",\"IOS 17\",\"256gb\",\"1,59,999\")\n",
    "mobile.print_info()"
   ]
  },
  {
   "cell_type": "code",
   "execution_count": 2,
   "id": "8e118965-93ed-47e8-9dea-d0da2a67d635",
   "metadata": {},
   "outputs": [
    {
     "name": "stdout",
     "output_type": "stream",
     "text": [
      " Here is a favourite brand of childers that is Classmate which is A4 size and it contains of page 200 which comes with 65Rs \n"
     ]
    }
   ],
   "source": [
    "class Book:   \n",
    "    def __init__(self, brand, size, page, price):\n",
    "        self.brand=brand\n",
    "        self.size=size\n",
    "        self.page=page\n",
    "        self.price=price\n",
    "    def print_info(self): \n",
    "        print(f' Here is a favourite brand of childers that is {self.brand} which is {self.size} size and it contains of page {self.page} which comes with {self.price}Rs ')   \n",
    "\n",
    "book=Book(\"Classmate\",\"A4\",\"200\",\"65\")\n",
    "book.print_info()"
   ]
  },
  {
   "cell_type": "code",
   "execution_count": 3,
   "id": "23f7c79b-515e-46e0-a322-40b54fe5eba3",
   "metadata": {},
   "outputs": [
    {
     "name": "stdout",
     "output_type": "stream",
     "text": [
      " We have a dress of brand Zara built with some of the finest material Cotton of  size Large as it is built with some finest material it price comes with 3999 Rs\n"
     ]
    }
   ],
   "source": [
    "class Dress:   \n",
    "    def __init__(self, brand, material, size, price):\n",
    "        self.brand=brand\n",
    "        self.material=material\n",
    "        self.size=size\n",
    "        self.price=price\n",
    "    def print_info(self): \n",
    "        print(f' We have a dress of brand {self.brand} built with some of the finest material {self.material} of  size {self.size} as it is built with some finest material it price comes with {self.price} Rs')   \n",
    "dress=Dress(\"Zara\",\"Cotton\",\"Large\",\"3999\")\n",
    "dress.print_info()"
   ]
  },
  {
   "cell_type": "code",
   "execution_count": 4,
   "id": "a7d9162d-dae3-4d2e-a4be-d7246cd81a0e",
   "metadata": {},
   "outputs": [
    {
     "name": "stdout",
     "output_type": "stream",
     "text": [
      " We have a whose name is DairyMilk, which is of a weight 100g it contains some list of Ingrident milk, coco, etc of 70 Rs \n"
     ]
    }
   ],
   "source": [
    "class Chocolate:   \n",
    "    def __init__(self, brand, weight, ingrident, price):\n",
    "        self.brand=brand\n",
    "        self.weight=weight\n",
    "        self.ingrident=ingrident\n",
    "        self.price=price\n",
    "    def print_info(self): \n",
    "        print(f' We have a whose name is {self.brand}, which is of a weight {self.weight} it contains some list of Ingrident {self.ingrident} of {self.price} Rs ')   \n",
    "\n",
    "chocolate=Chocolate(\"DairyMilk\",\"100g\",\"milk, coco, etc\",\"70\")\n",
    "chocolate.print_info()"
   ]
  },
  {
   "cell_type": "code",
   "execution_count": 5,
   "id": "4c3a8878-8b0e-4dc6-9649-d5af0173f3db",
   "metadata": {},
   "outputs": [
    {
     "name": "stdout",
     "output_type": "stream",
     "text": [
      " We have a top 1 online game that is Grand Theft Auto V, which is built by the american people ofically knows as Rockstar Gamers it is a net servered top 1 Online gaming which comes with a price of 6999 Rs \n"
     ]
    }
   ],
   "source": [
    "class Game:   \n",
    "    def __init__(self, brand, type, server, price):\n",
    "        self.brand=brand\n",
    "        self.server=server\n",
    "        self.type=type\n",
    "        self.price=price\n",
    "    def print_info(self): \n",
    "        print(f' We have a top 1 online game that is {self.brand}, which is built by the american people ofically knows as {self.type} it is a net servered top 1 {self.server} gaming which comes with a price of {self.price} Rs ')   \n",
    "\n",
    "game=Game(\"Grand Theft Auto V\",\"Rockstar Gamers\",\"Online\",\"6999\")\n",
    "game.print_info()"
   ]
  },
  {
   "cell_type": "code",
   "execution_count": null,
   "id": "34711b1e-e1cf-4799-9acf-e157688db495",
   "metadata": {},
   "outputs": [],
   "source": [
    "\n"
   ]
  },
  {
   "cell_type": "code",
   "execution_count": null,
   "id": "324e0996-737c-48f5-b8b1-6368bdc532d1",
   "metadata": {},
   "outputs": [],
   "source": []
  }
 ],
 "metadata": {
  "kernelspec": {
   "display_name": "Python 3 (ipykernel)",
   "language": "python",
   "name": "python3"
  },
  "language_info": {
   "codemirror_mode": {
    "name": "ipython",
    "version": 3
   },
   "file_extension": ".py",
   "mimetype": "text/x-python",
   "name": "python",
   "nbconvert_exporter": "python",
   "pygments_lexer": "ipython3",
   "version": "3.11.5"
  }
 },
 "nbformat": 4,
 "nbformat_minor": 5
}
