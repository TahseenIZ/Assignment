{
  "cells": [
    {
      "cell_type": "markdown",
      "metadata": {
        "id": "view-in-github",
        "colab_type": "text"
      },
      "source": [
        "<a href=\"https://colab.research.google.com/github/TahseenIZ/Assignment/blob/main/Assignment_8.ipynb\" target=\"_parent\"><img src=\"https://colab.research.google.com/assets/colab-badge.svg\" alt=\"Open In Colab\"/></a>"
      ]
    },
    {
      "cell_type": "code",
      "execution_count": null,
      "id": "d9e19bb3",
      "metadata": {
        "id": "d9e19bb3",
        "outputId": "b41410ef-d290-445e-f4d4-d5a3369452db"
      },
      "outputs": [
        {
          "name": "stdout",
          "output_type": "stream",
          "text": [
            "Enter the base: 20\n",
            "Enter the exponent: 2\n",
            "20.0 raised to the power 2 is 400.0 (using ** operator)\n"
          ]
        }
      ],
      "source": [
        "# Python Program to Compute the Power of a Number.\n",
        "\n",
        "def power_using_operator(b, expo):\n",
        "    result = b ** expo\n",
        "    return result\n",
        "\n",
        "\n",
        "def power_using_pow(base, exponent):\n",
        "    result = pow(b, expo)\n",
        "    return result\n",
        "\n",
        "\n",
        "b = float(input(\"Enter the base: \"))\n",
        "expo = int(input(\"Enter the exponent: \"))\n",
        "\n",
        "\n",
        "result_operator = power_using_operator(b, expo)\n",
        "print(f\"{b} raised to the power {expo} is {result_operator} (using ** operator)\")\n"
      ]
    },
    {
      "cell_type": "code",
      "execution_count": null,
      "id": "f2aad957",
      "metadata": {
        "id": "f2aad957",
        "outputId": "2729998d-9cb3-4d88-e78b-c1f2f5028ed4"
      },
      "outputs": [
        {
          "name": "stdout",
          "output_type": "stream",
          "text": [
            "Enter a number: 25\n",
            "The number of digits in 25 is: 2\n"
          ]
        }
      ],
      "source": [
        "# Python Program to Count the Number of Digits Present In a Number.\n",
        "\n",
        "def count_digits(number):\n",
        "\n",
        "    num_str = str(number)\n",
        "    return len(num_str)\n",
        "\n",
        "\n",
        "number = int(input(\"Enter a number: \"))\n",
        "digit_count = count_digits(number)\n",
        "\n",
        "\n",
        "print(f\"The number of digits in {number} is: {digit_count}\")"
      ]
    },
    {
      "cell_type": "code",
      "execution_count": null,
      "id": "97243577",
      "metadata": {
        "id": "97243577",
        "outputId": "b37a5f79-ba64-464f-85d5-32128e1e69d9"
      },
      "outputs": [
        {
          "name": "stdout",
          "output_type": "stream",
          "text": [
            "Original List: [1, 2, 2, 3, 4, 4, 5]\n",
            "List with Duplicates Removed: [1, 2, 3, 4, 5]\n"
          ]
        }
      ],
      "source": [
        "# Python Program to Remove Duplicate Element From a List.\n",
        "\n",
        "def remove_duplicates(input_list):\n",
        "\n",
        "    unique_list = list(set(input_list))\n",
        "    return unique_list\n",
        "\n",
        "input_list = [1, 2, 2, 3, 4, 4, 5]\n",
        "result_list = remove_duplicates(input_list)\n",
        "\n",
        "print(f\"Original List: {input_list}\")\n",
        "print(f\"List with Duplicates Removed: {result_list}\")"
      ]
    },
    {
      "cell_type": "code",
      "execution_count": null,
      "id": "930a370a",
      "metadata": {
        "id": "930a370a",
        "outputId": "865309bf-8aa0-458f-8578-67aad3abc8b9"
      },
      "outputs": [
        {
          "name": "stdout",
          "output_type": "stream",
          "text": [
            "Enter the year: 2003\n",
            "Enter the month (1-12): 5\n",
            "\n",
            "Calendar for May 2003:\n",
            "\n",
            "      May 2003\n",
            "Mo Tu We Th Fr Sa Su\n",
            "          1  2  3  4\n",
            " 5  6  7  8  9 10 11\n",
            "12 13 14 15 16 17 18\n",
            "19 20 21 22 23 24 25\n",
            "26 27 28 29 30 31\n",
            "\n"
          ]
        }
      ],
      "source": [
        "#  Python Program to Display Calendar.\n",
        "import calendar\n",
        "\n",
        "year = int(input(\"Enter the year: \"))\n",
        "month = int(input(\"Enter the month (1-12): \"))\n",
        "\n",
        "\n",
        "cal = calendar.month(year, month)\n",
        "print(f\"\\nCalendar for {calendar.month_name[month]} {year}:\\n\")\n",
        "print(cal)"
      ]
    },
    {
      "cell_type": "code",
      "execution_count": null,
      "id": "bd2bd012",
      "metadata": {
        "id": "bd2bd012",
        "outputId": "41af2696-1bd3-4aa8-bd0d-d8afeab3c8e9"
      },
      "outputs": [
        {
          "name": "stdout",
          "output_type": "stream",
          "text": [
            "Enter numbers separated by spaces: 20 50\n",
            "The sum of the array is: 70\n"
          ]
        }
      ],
      "source": [
        "#  Python Program to find the sum of arrays.\n",
        "\n",
        "def array_sum(arr):\n",
        "    return sum(arr)\n",
        "numbers = [int(x) for x in input(\"Enter numbers separated by spaces: \").split()]\n",
        "result_sum = array_sum(numbers)\n",
        "\n",
        "print(f\"The sum of the array is: {result_sum}\")"
      ]
    },
    {
      "cell_type": "code",
      "execution_count": null,
      "id": "fbce5cb1",
      "metadata": {
        "id": "fbce5cb1"
      },
      "outputs": [],
      "source": [
        "# Python | Check for URL in a String."
      ]
    },
    {
      "cell_type": "code",
      "execution_count": null,
      "id": "1dc0192f",
      "metadata": {
        "id": "1dc0192f",
        "outputId": "d49df158-4099-4a1d-df1f-2673d54f47b7"
      },
      "outputs": [
        {
          "name": "stdout",
          "output_type": "stream",
          "text": [
            "List of Tuples (Number, Cube): [(1, 1), (2, 8), (3, 27), (4, 64), (5, 125)]\n"
          ]
        }
      ],
      "source": [
        "# Create a list of tuples from the given list having number and its cube in each tuple.\n",
        "\n",
        "numbers = [1, 2, 3, 4, 5]\n",
        "tuples_list = [(num, num**3) for num in numbers]\n",
        "\n",
        "print(\"List of Tuples (Number, Cube):\", tuples_list)\n"
      ]
    },
    {
      "cell_type": "code",
      "execution_count": null,
      "id": "844b39d7",
      "metadata": {
        "id": "844b39d7",
        "outputId": "981930c6-7c17-4a4d-ebec-17d920a975bc"
      },
      "outputs": [
        {
          "name": "stdout",
          "output_type": "stream",
          "text": [
            "Original List: [1, 2, 3, 4, 5]\n",
            "List after deleting all elements: []\n"
          ]
        }
      ],
      "source": [
        "# Python program to Delete all Elements in List.\n",
        "\n",
        "list = [1, 2, 3, 4, 5]\n",
        "print(\"Original List:\", list)\n",
        "list.clear()\n",
        "\n",
        "print(\"List after deleting all elements:\", list)"
      ]
    },
    {
      "cell_type": "code",
      "execution_count": null,
      "id": "6f37421b",
      "metadata": {
        "id": "6f37421b"
      },
      "outputs": [],
      "source": [
        "# Python Program to Enter Basic Salary and Calculate Gross Salary of an Employee."
      ]
    },
    {
      "cell_type": "code",
      "execution_count": null,
      "id": "99bcf66f",
      "metadata": {
        "id": "99bcf66f",
        "outputId": "aea64d96-515d-4503-a1e2-4b28c5e1f356"
      },
      "outputs": [
        {
          "name": "stdout",
          "output_type": "stream",
          "text": [
            "Enter numbers separated by spaces: 20 50\n",
            "\n",
            "The average of the numbers is: 35.0\n"
          ]
        }
      ],
      "source": [
        "# Python Program to Calculate the Average of Numbers in a Given List.\n",
        "\n",
        "def calculate_average(numbers):\n",
        "    total = sum(numbers)\n",
        "    average = total / len(numbers)\n",
        "    return average\n",
        "\n",
        "numbers = [float(x) for x in input(\"Enter numbers separated by spaces: \").split()]\n",
        "average = calculate_average(numbers)\n",
        "\n",
        "print(f\"\\nThe average of the numbers is: {average}\")"
      ]
    },
    {
      "cell_type": "code",
      "execution_count": null,
      "id": "bd382d30",
      "metadata": {
        "id": "bd382d30"
      },
      "outputs": [],
      "source": []
    }
  ],
  "metadata": {
    "kernelspec": {
      "display_name": "Python 3 (ipykernel)",
      "language": "python",
      "name": "python3"
    },
    "language_info": {
      "codemirror_mode": {
        "name": "ipython",
        "version": 3
      },
      "file_extension": ".py",
      "mimetype": "text/x-python",
      "name": "python",
      "nbconvert_exporter": "python",
      "pygments_lexer": "ipython3",
      "version": "3.11.5"
    },
    "colab": {
      "provenance": [],
      "include_colab_link": true
    }
  },
  "nbformat": 4,
  "nbformat_minor": 5
}