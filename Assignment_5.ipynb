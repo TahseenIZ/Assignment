{
  "cells": [
    {
      "cell_type": "markdown",
      "metadata": {
        "id": "view-in-github",
        "colab_type": "text"
      },
      "source": [
        "<a href=\"https://colab.research.google.com/github/TahseenIZ/Assignment/blob/main/Assignment_5.ipynb\" target=\"_parent\"><img src=\"https://colab.research.google.com/assets/colab-badge.svg\" alt=\"Open In Colab\"/></a>"
      ]
    },
    {
      "cell_type": "code",
      "execution_count": null,
      "id": "a8878e95-5229-442f-877e-be5d098f9590",
      "metadata": {
        "id": "a8878e95-5229-442f-877e-be5d098f9590",
        "outputId": "2a43a515-7b3e-4dd6-dba5-8b0873ff3eaf"
      },
      "outputs": [
        {
          "name": "stdin",
          "output_type": "stream",
          "text": [
            "Enter a number:  10\n"
          ]
        },
        {
          "name": "stdout",
          "output_type": "stream",
          "text": [
            "10 is not a prime number\n"
          ]
        }
      ],
      "source": [
        "# program to check prime number\n",
        "def is_prime(n):\n",
        "    if n<=1:\n",
        "        return False\n",
        "    if n<=3:\n",
        "        return True\n",
        "    if n % 2 == 0 or n % 3 == 0:\n",
        "        return False\n",
        "\n",
        "        i=5\n",
        "    while i*i<=n:\n",
        "        if n%i==0 or n%(i+2) ==0:\n",
        "            return False\n",
        "        i+=6\n",
        "    return True\n",
        "\n",
        "number = int(input(\"Enter a number: \"))\n",
        "\n",
        "if is_prime(number):\n",
        "    print(f\"{number} is a prime number\")\n",
        "else:\n",
        "    print(f\"{number} is not a prime number\")"
      ]
    },
    {
      "cell_type": "code",
      "execution_count": null,
      "id": "9d0a97eb-8fe8-4b7d-bdf1-41ca9fb7e925",
      "metadata": {
        "id": "9d0a97eb-8fe8-4b7d-bdf1-41ca9fb7e925",
        "outputId": "0c581452-117a-41dd-8ec9-a7881817d0df"
      },
      "outputs": [
        {
          "name": "stdout",
          "output_type": "stream",
          "text": [
            "2\n",
            "3\n",
            "5\n",
            "7\n",
            "11\n",
            "13\n",
            "17\n",
            "19\n",
            "23\n",
            "29\n",
            "31\n",
            "37\n",
            "41\n",
            "43\n",
            "47\n",
            "53\n",
            "59\n",
            "61\n",
            "67\n",
            "71\n",
            "73\n",
            "79\n",
            "83\n",
            "89\n",
            "97\n"
          ]
        }
      ],
      "source": [
        "# To Print all Prime numbers Btwn 1 to 100\n",
        "def is_prime(n):\n",
        "    if n <= 1:\n",
        "        return False\n",
        "    i = 2\n",
        "    while i*i <= n:\n",
        "        if n % i == 0:\n",
        "            return False\n",
        "        i += 1\n",
        "    return True\n",
        "\n",
        "\n",
        "n = 2\n",
        "count = 0\n",
        "while count < 25:\n",
        "    if is_prime(n):\n",
        "        print(n)\n",
        "        count += 1\n",
        "    n += 1"
      ]
    },
    {
      "cell_type": "code",
      "execution_count": null,
      "id": "8856a74f-3814-41b4-adf5-4c100bf23820",
      "metadata": {
        "id": "8856a74f-3814-41b4-adf5-4c100bf23820",
        "outputId": "c2f0a577-4c33-4afc-de86-2f832fab4e5e"
      },
      "outputs": [
        {
          "name": "stdin",
          "output_type": "stream",
          "text": [
            "Enter a number:  25\n"
          ]
        },
        {
          "name": "stdout",
          "output_type": "stream",
          "text": [
            "The factorial of 25 is 15511210043330985984000000\n"
          ]
        }
      ],
      "source": [
        "# find the Factorial of a Number\n",
        "\n",
        "def factorial(n):\n",
        "    if n == 0:\n",
        "        return 1\n",
        "    else:\n",
        "        return n * factorial(n - 1)\n",
        "\n",
        "# Input a number for which you want to find the factorial\n",
        "number = int(input(\"Enter a number: \"))\n",
        "\n",
        "if number < 0:\n",
        "    print(\"Factorial is not defined for negative numbers.\")\n",
        "elif number == 0:\n",
        "    print(\"The factorial of 0 is 1\")\n",
        "else:\n",
        "    result = factorial(number)\n",
        "    print(f\"The factorial of {number} is {result}\")"
      ]
    },
    {
      "cell_type": "code",
      "execution_count": null,
      "id": "08ff6347-3900-40ba-b220-75e6d4613fe2",
      "metadata": {
        "id": "08ff6347-3900-40ba-b220-75e6d4613fe2"
      },
      "outputs": [],
      "source": []
    }
  ],
  "metadata": {
    "kernelspec": {
      "display_name": "Python 3 (ipykernel)",
      "language": "python",
      "name": "python3"
    },
    "language_info": {
      "codemirror_mode": {
        "name": "ipython",
        "version": 3
      },
      "file_extension": ".py",
      "mimetype": "text/x-python",
      "name": "python",
      "nbconvert_exporter": "python",
      "pygments_lexer": "ipython3",
      "version": "3.11.5"
    },
    "colab": {
      "provenance": [],
      "include_colab_link": true
    }
  },
  "nbformat": 4,
  "nbformat_minor": 5
}